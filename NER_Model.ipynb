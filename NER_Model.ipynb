{
  "nbformat": 4,
  "nbformat_minor": 0,
  "metadata": {
    "colab": {
      "name": "NER Model",
      "provenance": [],
      "collapsed_sections": [],
      "include_colab_link": true
    },
    "kernelspec": {
      "name": "python3",
      "display_name": "Python 3"
    },
    "language_info": {
      "name": "python"
    }
  },
  "cells": [
    {
      "cell_type": "markdown",
      "metadata": {
        "id": "view-in-github",
        "colab_type": "text"
      },
      "source": [
        "<a href=\"https://colab.research.google.com/github/templas3324/NER-model-project/blob/main/NER_Model.ipynb\" target=\"_parent\"><img src=\"https://colab.research.google.com/assets/colab-badge.svg\" alt=\"Open In Colab\"/></a>"
      ]
    },
    {
      "cell_type": "markdown",
      "source": [
        "## 우신사 리뷰 개체명 인식 모델 제작"
      ],
      "metadata": {
        "id": "2gStdu6W0_HV"
      }
    },
    {
      "cell_type": "markdown",
      "source": [
        "# 1. 문제 상황 정의\n",
        "최근 인공지능(AI) 및 딥 러닝 기술이 상용화되면서 어느 기업이든 분야를 막론하고 이를 활용하여 서비스 개발 및 개선에 지대한 관심을 보이고 있습니다. 특히 자연어 처리(NLP) 분야는 음성인식, 검색최적화, 텍스트분류 등 클라이언트가 더욱 쉽게 서비스에 접근할 수 있도록 만드는 기술인 개체명인식(NER)이 크게 주목 받고 있습니다. 이에 우리는 국내 최대 온라인 의류 쇼핑몰 중 하나인 WUSINSA의 상품 리뷰 댓글을 개체명인식(NER)으로 처리하고 속성별로 분류하여, 향후 클라이언트의 검색 편의성을 제고할 수 있는 모델을 만들고자 합니다."
      ],
      "metadata": {
        "id": "0zLjhu8AD8bZ"
      }
    },
    {
      "cell_type": "markdown",
      "source": [
        "# 2. 데이터 수집 및 탐색적 데이터 분석(EDA)"
      ],
      "metadata": {
        "id": "LGvchS0rTQF3"
      }
    },
    {
      "cell_type": "markdown",
      "source": [
        "## 2-1. 데이터 수집\n",
        "데이터는 별도의 웹 크롤러 프로그램을 통해 txt 파일로 수집하였습니다. 최대한 일반적이고 풍부한 표본을 수집하기 위해 리뷰 댓글이 100개 이상인 상품들을 상위로 하여 수집하였으며, 댓글의 내용이 한 상품으로만 치우치는 것을 방지하기 위하여 총 45개의 세부 카테고리별로 일정 비율에 의해 추출하였습니다. 총 4500여 개의 표본이 수집되었으나, 모델 학습을 위해 팀원들이 일일이 텍스트에 태깅작업을 해야하므로 프로젝트 기간을 고려해 이중 1500여 개의 데이터만 사용하기로 결정하였습니다."
      ],
      "metadata": {
        "id": "nYccFVgsD9DJ"
      }
    },
    {
      "cell_type": "markdown",
      "source": [
        "\n",
        "\n",
        "## 2-2. 탐색적 데이터 분석(EDA)"
      ],
      "metadata": {
        "id": "4bPm8HCkTd44"
      }
    },
    {
      "cell_type": "code",
      "source": [
        "import pandas as pd\n",
        "\n",
        "train = pd.read_csv(\"train.csv\")"
      ],
      "metadata": {
        "id": "uYaNFcowUC0Q"
      },
      "execution_count": null,
      "outputs": []
    },
    {
      "cell_type": "code",
      "source": [
        "train.head()"
      ],
      "metadata": {
        "colab": {
          "base_uri": "https://localhost:8080/",
          "height": 206
        },
        "id": "OM-wO2Z0VEVj",
        "outputId": "333b7919-e8af-4e15-af72-c4cc4e42b4e7"
      },
      "execution_count": null,
      "outputs": [
        {
          "output_type": "execute_result",
          "data": {
            "text/html": [
              "\n",
              "  <div id=\"df-f49eefc2-79df-4f0f-b9e0-ccce747b43d3\">\n",
              "    <div class=\"colab-df-container\">\n",
              "      <div>\n",
              "<style scoped>\n",
              "    .dataframe tbody tr th:only-of-type {\n",
              "        vertical-align: middle;\n",
              "    }\n",
              "\n",
              "    .dataframe tbody tr th {\n",
              "        vertical-align: top;\n",
              "    }\n",
              "\n",
              "    .dataframe thead th {\n",
              "        text-align: right;\n",
              "    }\n",
              "</style>\n",
              "<table border=\"1\" class=\"dataframe\">\n",
              "  <thead>\n",
              "    <tr style=\"text-align: right;\">\n",
              "      <th></th>\n",
              "      <th>리뷰 텍스트</th>\n",
              "    </tr>\n",
              "  </thead>\n",
              "  <tbody>\n",
              "    <tr>\n",
              "      <th>0</th>\n",
              "      <td>생각보다 무난해서 더 좋았던것 같아요 ! 뭔가 디테일이 많이 튈거라고 생각해서 걱정했는데</td>\n",
              "    </tr>\n",
              "    <tr>\n",
              "      <th>1</th>\n",
              "      <td>사진에 보이는 색상처럼 괜찮은 독특한 블루색입니다 기모가 쨩쨩해서 춥진 않을듯합니다...</td>\n",
              "    </tr>\n",
              "    <tr>\n",
              "      <th>2</th>\n",
              "      <td>재질도좋고 촉감도 좋습니다~ 배송 역시 빠르고 마니파세요</td>\n",
              "    </tr>\n",
              "    <tr>\n",
              "      <th>3</th>\n",
              "      <td>교복에 입기 정말 무난한 후드집업 ㅎㅎ 사이즈도 넉넉하니 귀여워요</td>\n",
              "    </tr>\n",
              "    <tr>\n",
              "      <th>4</th>\n",
              "      <td>생각보다 조금 얇은 느낌이긴 한데 그래서 여름에 입기 좋은 것 같아요</td>\n",
              "    </tr>\n",
              "  </tbody>\n",
              "</table>\n",
              "</div>\n",
              "      <button class=\"colab-df-convert\" onclick=\"convertToInteractive('df-f49eefc2-79df-4f0f-b9e0-ccce747b43d3')\"\n",
              "              title=\"Convert this dataframe to an interactive table.\"\n",
              "              style=\"display:none;\">\n",
              "        \n",
              "  <svg xmlns=\"http://www.w3.org/2000/svg\" height=\"24px\"viewBox=\"0 0 24 24\"\n",
              "       width=\"24px\">\n",
              "    <path d=\"M0 0h24v24H0V0z\" fill=\"none\"/>\n",
              "    <path d=\"M18.56 5.44l.94 2.06.94-2.06 2.06-.94-2.06-.94-.94-2.06-.94 2.06-2.06.94zm-11 1L8.5 8.5l.94-2.06 2.06-.94-2.06-.94L8.5 2.5l-.94 2.06-2.06.94zm10 10l.94 2.06.94-2.06 2.06-.94-2.06-.94-.94-2.06-.94 2.06-2.06.94z\"/><path d=\"M17.41 7.96l-1.37-1.37c-.4-.4-.92-.59-1.43-.59-.52 0-1.04.2-1.43.59L10.3 9.45l-7.72 7.72c-.78.78-.78 2.05 0 2.83L4 21.41c.39.39.9.59 1.41.59.51 0 1.02-.2 1.41-.59l7.78-7.78 2.81-2.81c.8-.78.8-2.07 0-2.86zM5.41 20L4 18.59l7.72-7.72 1.47 1.35L5.41 20z\"/>\n",
              "  </svg>\n",
              "      </button>\n",
              "      \n",
              "  <style>\n",
              "    .colab-df-container {\n",
              "      display:flex;\n",
              "      flex-wrap:wrap;\n",
              "      gap: 12px;\n",
              "    }\n",
              "\n",
              "    .colab-df-convert {\n",
              "      background-color: #E8F0FE;\n",
              "      border: none;\n",
              "      border-radius: 50%;\n",
              "      cursor: pointer;\n",
              "      display: none;\n",
              "      fill: #1967D2;\n",
              "      height: 32px;\n",
              "      padding: 0 0 0 0;\n",
              "      width: 32px;\n",
              "    }\n",
              "\n",
              "    .colab-df-convert:hover {\n",
              "      background-color: #E2EBFA;\n",
              "      box-shadow: 0px 1px 2px rgba(60, 64, 67, 0.3), 0px 1px 3px 1px rgba(60, 64, 67, 0.15);\n",
              "      fill: #174EA6;\n",
              "    }\n",
              "\n",
              "    [theme=dark] .colab-df-convert {\n",
              "      background-color: #3B4455;\n",
              "      fill: #D2E3FC;\n",
              "    }\n",
              "\n",
              "    [theme=dark] .colab-df-convert:hover {\n",
              "      background-color: #434B5C;\n",
              "      box-shadow: 0px 1px 3px 1px rgba(0, 0, 0, 0.15);\n",
              "      filter: drop-shadow(0px 1px 2px rgba(0, 0, 0, 0.3));\n",
              "      fill: #FFFFFF;\n",
              "    }\n",
              "  </style>\n",
              "\n",
              "      <script>\n",
              "        const buttonEl =\n",
              "          document.querySelector('#df-f49eefc2-79df-4f0f-b9e0-ccce747b43d3 button.colab-df-convert');\n",
              "        buttonEl.style.display =\n",
              "          google.colab.kernel.accessAllowed ? 'block' : 'none';\n",
              "\n",
              "        async function convertToInteractive(key) {\n",
              "          const element = document.querySelector('#df-f49eefc2-79df-4f0f-b9e0-ccce747b43d3');\n",
              "          const dataTable =\n",
              "            await google.colab.kernel.invokeFunction('convertToInteractive',\n",
              "                                                     [key], {});\n",
              "          if (!dataTable) return;\n",
              "\n",
              "          const docLinkHtml = 'Like what you see? Visit the ' +\n",
              "            '<a target=\"_blank\" href=https://colab.research.google.com/notebooks/data_table.ipynb>data table notebook</a>'\n",
              "            + ' to learn more about interactive tables.';\n",
              "          element.innerHTML = '';\n",
              "          dataTable['output_type'] = 'display_data';\n",
              "          await google.colab.output.renderOutput(dataTable, element);\n",
              "          const docLink = document.createElement('div');\n",
              "          docLink.innerHTML = docLinkHtml;\n",
              "          element.appendChild(docLink);\n",
              "        }\n",
              "      </script>\n",
              "    </div>\n",
              "  </div>\n",
              "  "
            ],
            "text/plain": [
              "                                              리뷰 텍스트\n",
              "0  생각보다 무난해서 더 좋았던것 같아요 ! 뭔가 디테일이 많이 튈거라고 생각해서 걱정했는데\n",
              "1  사진에 보이는 색상처럼 괜찮은 독특한 블루색입니다 기모가 쨩쨩해서 춥진 않을듯합니다...\n",
              "2                    재질도좋고 촉감도 좋습니다~ 배송 역시 빠르고 마니파세요\n",
              "3               교복에 입기 정말 무난한 후드집업 ㅎㅎ 사이즈도 넉넉하니 귀여워요\n",
              "4             생각보다 조금 얇은 느낌이긴 한데 그래서 여름에 입기 좋은 것 같아요"
            ]
          },
          "metadata": {},
          "execution_count": 4
        }
      ]
    },
    {
      "cell_type": "code",
      "source": [
        "train.tail()"
      ],
      "metadata": {
        "colab": {
          "base_uri": "https://localhost:8080/",
          "height": 206
        },
        "id": "QsuxEvhAVEgp",
        "outputId": "8e615740-5b43-45b0-9bf1-39c4cb3ae139"
      },
      "execution_count": null,
      "outputs": [
        {
          "output_type": "execute_result",
          "data": {
            "text/html": [
              "\n",
              "  <div id=\"df-370d3a00-9afa-41ae-85d0-ef34318642da\">\n",
              "    <div class=\"colab-df-container\">\n",
              "      <div>\n",
              "<style scoped>\n",
              "    .dataframe tbody tr th:only-of-type {\n",
              "        vertical-align: middle;\n",
              "    }\n",
              "\n",
              "    .dataframe tbody tr th {\n",
              "        vertical-align: top;\n",
              "    }\n",
              "\n",
              "    .dataframe thead th {\n",
              "        text-align: right;\n",
              "    }\n",
              "</style>\n",
              "<table border=\"1\" class=\"dataframe\">\n",
              "  <thead>\n",
              "    <tr style=\"text-align: right;\">\n",
              "      <th></th>\n",
              "      <th>리뷰 텍스트</th>\n",
              "    </tr>\n",
              "  </thead>\n",
              "  <tbody>\n",
              "    <tr>\n",
              "      <th>1574</th>\n",
              "      <td>제가 가슴이 좀 있는편이어서 한사이즈 크게 샀는데 원하는 사이즈에 핏이 였음요</td>\n",
              "    </tr>\n",
              "    <tr>\n",
              "      <th>1575</th>\n",
              "      <td>스몰로 샀는데도 넉넉한 기장, 품, 핏입니다. 오버핏 확실하고 무겁습니다. 생각보다...</td>\n",
              "    </tr>\n",
              "    <tr>\n",
              "      <th>1576</th>\n",
              "      <td>유튜버분의 착용샷을 보고 구매했는데 받아보니 색감이 선명하고 편하고 이쁩니다!</td>\n",
              "    </tr>\n",
              "    <tr>\n",
              "      <th>1577</th>\n",
              "      <td>너무 이쁘고 패셔너블하네오 무조건 사시는거 추천!</td>\n",
              "    </tr>\n",
              "    <tr>\n",
              "      <th>1578</th>\n",
              "      <td>실측사이즈만 봤을때 작을까봐 걱정했는데 오버핏으로나와서 안에 껴입기도 좋고 요즘날씨...</td>\n",
              "    </tr>\n",
              "  </tbody>\n",
              "</table>\n",
              "</div>\n",
              "      <button class=\"colab-df-convert\" onclick=\"convertToInteractive('df-370d3a00-9afa-41ae-85d0-ef34318642da')\"\n",
              "              title=\"Convert this dataframe to an interactive table.\"\n",
              "              style=\"display:none;\">\n",
              "        \n",
              "  <svg xmlns=\"http://www.w3.org/2000/svg\" height=\"24px\"viewBox=\"0 0 24 24\"\n",
              "       width=\"24px\">\n",
              "    <path d=\"M0 0h24v24H0V0z\" fill=\"none\"/>\n",
              "    <path d=\"M18.56 5.44l.94 2.06.94-2.06 2.06-.94-2.06-.94-.94-2.06-.94 2.06-2.06.94zm-11 1L8.5 8.5l.94-2.06 2.06-.94-2.06-.94L8.5 2.5l-.94 2.06-2.06.94zm10 10l.94 2.06.94-2.06 2.06-.94-2.06-.94-.94-2.06-.94 2.06-2.06.94z\"/><path d=\"M17.41 7.96l-1.37-1.37c-.4-.4-.92-.59-1.43-.59-.52 0-1.04.2-1.43.59L10.3 9.45l-7.72 7.72c-.78.78-.78 2.05 0 2.83L4 21.41c.39.39.9.59 1.41.59.51 0 1.02-.2 1.41-.59l7.78-7.78 2.81-2.81c.8-.78.8-2.07 0-2.86zM5.41 20L4 18.59l7.72-7.72 1.47 1.35L5.41 20z\"/>\n",
              "  </svg>\n",
              "      </button>\n",
              "      \n",
              "  <style>\n",
              "    .colab-df-container {\n",
              "      display:flex;\n",
              "      flex-wrap:wrap;\n",
              "      gap: 12px;\n",
              "    }\n",
              "\n",
              "    .colab-df-convert {\n",
              "      background-color: #E8F0FE;\n",
              "      border: none;\n",
              "      border-radius: 50%;\n",
              "      cursor: pointer;\n",
              "      display: none;\n",
              "      fill: #1967D2;\n",
              "      height: 32px;\n",
              "      padding: 0 0 0 0;\n",
              "      width: 32px;\n",
              "    }\n",
              "\n",
              "    .colab-df-convert:hover {\n",
              "      background-color: #E2EBFA;\n",
              "      box-shadow: 0px 1px 2px rgba(60, 64, 67, 0.3), 0px 1px 3px 1px rgba(60, 64, 67, 0.15);\n",
              "      fill: #174EA6;\n",
              "    }\n",
              "\n",
              "    [theme=dark] .colab-df-convert {\n",
              "      background-color: #3B4455;\n",
              "      fill: #D2E3FC;\n",
              "    }\n",
              "\n",
              "    [theme=dark] .colab-df-convert:hover {\n",
              "      background-color: #434B5C;\n",
              "      box-shadow: 0px 1px 3px 1px rgba(0, 0, 0, 0.15);\n",
              "      filter: drop-shadow(0px 1px 2px rgba(0, 0, 0, 0.3));\n",
              "      fill: #FFFFFF;\n",
              "    }\n",
              "  </style>\n",
              "\n",
              "      <script>\n",
              "        const buttonEl =\n",
              "          document.querySelector('#df-370d3a00-9afa-41ae-85d0-ef34318642da button.colab-df-convert');\n",
              "        buttonEl.style.display =\n",
              "          google.colab.kernel.accessAllowed ? 'block' : 'none';\n",
              "\n",
              "        async function convertToInteractive(key) {\n",
              "          const element = document.querySelector('#df-370d3a00-9afa-41ae-85d0-ef34318642da');\n",
              "          const dataTable =\n",
              "            await google.colab.kernel.invokeFunction('convertToInteractive',\n",
              "                                                     [key], {});\n",
              "          if (!dataTable) return;\n",
              "\n",
              "          const docLinkHtml = 'Like what you see? Visit the ' +\n",
              "            '<a target=\"_blank\" href=https://colab.research.google.com/notebooks/data_table.ipynb>data table notebook</a>'\n",
              "            + ' to learn more about interactive tables.';\n",
              "          element.innerHTML = '';\n",
              "          dataTable['output_type'] = 'display_data';\n",
              "          await google.colab.output.renderOutput(dataTable, element);\n",
              "          const docLink = document.createElement('div');\n",
              "          docLink.innerHTML = docLinkHtml;\n",
              "          element.appendChild(docLink);\n",
              "        }\n",
              "      </script>\n",
              "    </div>\n",
              "  </div>\n",
              "  "
            ],
            "text/plain": [
              "                                                 리뷰 텍스트\n",
              "1574        제가 가슴이 좀 있는편이어서 한사이즈 크게 샀는데 원하는 사이즈에 핏이 였음요\n",
              "1575  스몰로 샀는데도 넉넉한 기장, 품, 핏입니다. 오버핏 확실하고 무겁습니다. 생각보다...\n",
              "1576        유튜버분의 착용샷을 보고 구매했는데 받아보니 색감이 선명하고 편하고 이쁩니다!\n",
              "1577                        너무 이쁘고 패셔너블하네오 무조건 사시는거 추천!\n",
              "1578  실측사이즈만 봤을때 작을까봐 걱정했는데 오버핏으로나와서 안에 껴입기도 좋고 요즘날씨..."
            ]
          },
          "metadata": {},
          "execution_count": 5
        }
      ]
    },
    {
      "cell_type": "markdown",
      "source": [
        "리뷰 텍스트는 보통 온라인에서 사용하는 방식으로 작성되었습니다. 따라서 띄어쓰기나 맞춤법이 제대로 지켜지지 않는 상태로 작성되며, 외래어와 은어, 신조어, 이모티콘 등의 사용이 빈번하게 일어납니다. 또한 영어 텍스트와는 달리 한국어 텍스트는 조사의 사용이 빈번하기 때문에 띄어쓰기를 기준으로 토큰화(Tokenization)할 경우 '사이즈가'라는 토큰과 '사이즈는'이라는 토큰을 다른 단어로 인식하는 문제가 발생하게 됩니다."
      ],
      "metadata": {
        "id": "As6c06jGU7Vg"
      }
    },
    {
      "cell_type": "markdown",
      "source": [
        "# 3. 데이터 전처리\n",
        "앞서 언급한 문제들로 인해 우선 맞춤법과 띄어쓰기를 교정해줄 필요가 있으며, 이를 바탕으로 일정 수준 교정된 텍스트를 형태소 기준으로 토큰화해야만 조사를 분리할 수 있다."
      ],
      "metadata": {
        "id": "mwS-ukUaD9SU"
      }
    },
    {
      "cell_type": "code",
      "source": [
        "# 필요 패키지 다운로드 및 한국어 토큰화에 필요한 KoNLPy\n",
        "\n",
        "# Java 설치 \n",
        "!apt-get update \n",
        "!apt-get install g++ openjdk-8-jdk python-dev python3-dev \n",
        "\n",
        "!pip3 install JPype1-py3  # JAVA와 Python 연결\n",
        "!pip3 install konlpy # KoNLPy 설치\n",
        "!JAVA_HOME=\"C:\\Program Files\\Java\\jdk1.8.0_291\" #본인 pc의 jdk 설치 경로\n",
        "\n",
        "!bash <(curl -s https://raw.githubusercontent.com/konlpy/konlpy/master/scripts/mecab.sh)\n",
        "# 리눅스 통해 콘솔창에서 실행할 수 있도록 스크립트가 함수로 묶어서 배포하는 스크립트"
      ],
      "metadata": {
        "id": "Pf6vf3esYMuL"
      },
      "execution_count": null,
      "outputs": []
    },
    {
      "cell_type": "code",
      "source": [
        "# 맞춤법, 띄어쓰기 교정을 위한 Hanspell\n",
        "\n",
        "# - 파이썬의 pyhanspell 라이브러리는 네이버 맞춤법 검사기를 이용한 한글 맞춤법 검사 라이브러리입니다.\n",
        "# - 맞춤법 검사 성공 여부\n",
        "# - 검사 전과 후 문장 반환\n",
        "# - 맞춤법 오류 총 갯수\n",
        "# - 총 요청 시간\n",
        "# - 교정 결과 비교\n",
        "\n",
        "\n",
        "!pip3 install git+https://github.com/ssut/py-hanspell.git"
      ],
      "metadata": {
        "id": "VvgOfG71Y4_A"
      },
      "execution_count": null,
      "outputs": []
    },
    {
      "cell_type": "code",
      "source": [
        "# hanspell 설치 확인\n",
        "from hanspell import spell_checker\n",
        "\n",
        "sent = \"맞춤법 틀리면 외 않되? 쓰고싶은대로쓰면돼지 \"\n",
        "spelled_sent = spell_checker.check(sent)\n",
        "print(spelled_sent) # 맞춤법 교정 과정 정보\n",
        "\n",
        "hanspell_sent = spelled_sent.checked # 맞춤법 결과 반환해서 저장\n",
        "print(hanspell_sent)"
      ],
      "metadata": {
        "colab": {
          "base_uri": "https://localhost:8080/"
        },
        "id": "voNfA1rjM_Fo",
        "outputId": "accba7cf-7bc2-4d50-cc7a-5c2e89cdfea6"
      },
      "execution_count": 3,
      "outputs": [
        {
          "output_type": "stream",
          "name": "stdout",
          "text": [
            "Checked(result=True, original='맞춤법 틀리면 외 않되? 쓰고싶은대로쓰면돼지 ', checked='맞춤법 틀리면 왜 안돼? 쓰고 싶은 대로 쓰면 되지', errors=2, words=OrderedDict([('맞춤법', 0), ('틀리면', 0), ('왜', 1), ('안돼?', 1), ('쓰고', 1), ('싶은', 1), ('대로', 1), ('쓰면', 1), ('되지', 1)]), time=0.7868034839630127)\n",
            "맞춤법 틀리면 왜 안돼? 쓰고 싶은 대로 쓰면 되지\n"
          ]
        }
      ]
    },
    {
      "cell_type": "code",
      "source": [
        "from konlpy.tag import Okt #한국어 형태소 분석기\n",
        "from konlpy.tag import Kkma #한국어 형태소 분석기\n",
        "from konlpy.tag import Mecab #한국어 형태소 분석기\n",
        "from hanspell import spell_checker #한국어 맞춤법 교정기\n",
        "\n",
        "import pandas as pd\n",
        "import numpy as np # 난수 시드값 입력 위함\n",
        "from sklearn.model_selection import train_test_split # 학습용 데이터셋과 테스트용 데이터셋 분기 위함.\n",
        "from tqdm import tqdm # 진행 상황 바를 표시하여주는 라이브러리.\n",
        "from collections import Counter # 등장 단어 빈도수 계산 위함."
      ],
      "metadata": {
        "id": "eOGVuH66YmZG"
      },
      "execution_count": 4,
      "outputs": []
    },
    {
      "cell_type": "markdown",
      "source": [
        "'reviewData.txt'파일은 코랩 세션 저장소에 업로드 해둬야 하며, read_csv 메서드로 파일을 읽어왔습니다. 이때 구분자는 \\t를 사용합니다.\n",
        "\n",
        "head()를 통해 상위 5개 데이터를 읽어오면 잘 저장된 것을 확인할 수 있습니다."
      ],
      "metadata": {
        "id": "g0TtUvD6QXQg"
      }
    },
    {
      "cell_type": "code",
      "source": [
        "rawData = pd.read_csv('reviewData.txt', delimiter = \"\\t\")\n",
        "rawData.head()"
      ],
      "metadata": {
        "colab": {
          "base_uri": "https://localhost:8080/",
          "height": 1000
        },
        "id": "qK46iH-SQE_1",
        "outputId": "f2584ea6-7c1a-4e75-ca9e-df4af42773db"
      },
      "execution_count": 6,
      "outputs": [
        {
          "output_type": "execute_result",
          "data": {
            "text/html": [
              "\n",
              "  <div id=\"df-ec3b00c3-9091-4011-b654-6886c8cf0389\">\n",
              "    <div class=\"colab-df-container\">\n",
              "      <div>\n",
              "<style scoped>\n",
              "    .dataframe tbody tr th:only-of-type {\n",
              "        vertical-align: middle;\n",
              "    }\n",
              "\n",
              "    .dataframe tbody tr th {\n",
              "        vertical-align: top;\n",
              "    }\n",
              "\n",
              "    .dataframe thead th {\n",
              "        text-align: right;\n",
              "    }\n",
              "</style>\n",
              "<table border=\"1\" class=\"dataframe\">\n",
              "  <thead>\n",
              "    <tr style=\"text-align: right;\">\n",
              "      <th></th>\n",
              "      <th>하위분류</th>\n",
              "      <th>상품명</th>\n",
              "      <th>브랜드명</th>\n",
              "      <th>가격</th>\n",
              "      <th>판매량</th>\n",
              "      <th>리뷰 수</th>\n",
              "      <th>연령대</th>\n",
              "      <th>전체 평점</th>\n",
              "      <th>사이즈 전체</th>\n",
              "      <th>밝기 전체</th>\n",
              "      <th>색깔 전체</th>\n",
              "      <th>제품 URL</th>\n",
              "      <th>제품 이미지</th>\n",
              "      <th>개인 평점</th>\n",
              "      <th>리뷰 텍스트</th>\n",
              "    </tr>\n",
              "  </thead>\n",
              "  <tbody>\n",
              "    <tr>\n",
              "      <th>0</th>\n",
              "      <td>긴팔 티셔츠</td>\n",
              "      <td>스트라이프 롱슬리브 블랙</td>\n",
              "      <td>마크 곤잘레스</td>\n",
              "      <td>31,500원</td>\n",
              "      <td>4.9만 회 이상</td>\n",
              "      <td>19038</td>\n",
              "      <td>19~23세 남성 에게 인기 많은 상품</td>\n",
              "      <td>4.8</td>\n",
              "      <td>커요(27%)-보통(72%)-작아요(1%)</td>\n",
              "      <td>밝아요(13%)-보통(85%)-어두워요(2%)</td>\n",
              "      <td>선명해요(35%)-보통(64%)-흐려요(1%)</td>\n",
              "      <td>https://store.musinsa.com/app/goods/1322019</td>\n",
              "      <td>https://image.msscdn.net/images/goods_img/2020...</td>\n",
              "      <td>5</td>\n",
              "      <td>사이즈도 넉넉하게 잘 맞고 이쁘네요 재구매의향있습니다.</td>\n",
              "    </tr>\n",
              "    <tr>\n",
              "      <th>1</th>\n",
              "      <td>긴팔 티셔츠</td>\n",
              "      <td>스트라이프 롱슬리브 블랙</td>\n",
              "      <td>마크 곤잘레스</td>\n",
              "      <td>31,500원</td>\n",
              "      <td>4.9만 회 이상</td>\n",
              "      <td>19038</td>\n",
              "      <td>19~23세 남성 에게 인기 많은 상품</td>\n",
              "      <td>4.8</td>\n",
              "      <td>커요(27%)-보통(72%)-작아요(1%)</td>\n",
              "      <td>밝아요(13%)-보통(85%)-어두워요(2%)</td>\n",
              "      <td>선명해요(35%)-보통(64%)-흐려요(1%)</td>\n",
              "      <td>https://store.musinsa.com/app/goods/1322019</td>\n",
              "      <td>https://image.msscdn.net/images/goods_img/2020...</td>\n",
              "      <td>5</td>\n",
              "      <td>마크 곤잘레스는 여름티셔츠도 잘 입어서 브랜드에 믿음이 생겨서 긴팔도 주문했는데 원...</td>\n",
              "    </tr>\n",
              "    <tr>\n",
              "      <th>2</th>\n",
              "      <td>긴팔 티셔츠</td>\n",
              "      <td>스트라이프 롱슬리브 블랙</td>\n",
              "      <td>마크 곤잘레스</td>\n",
              "      <td>31,500원</td>\n",
              "      <td>4.9만 회 이상</td>\n",
              "      <td>19038</td>\n",
              "      <td>19~23세 남성 에게 인기 많은 상품</td>\n",
              "      <td>4.8</td>\n",
              "      <td>커요(27%)-보통(72%)-작아요(1%)</td>\n",
              "      <td>밝아요(13%)-보통(85%)-어두워요(2%)</td>\n",
              "      <td>선명해요(35%)-보통(64%)-흐려요(1%)</td>\n",
              "      <td>https://store.musinsa.com/app/goods/1322019</td>\n",
              "      <td>https://image.msscdn.net/images/goods_img/2020...</td>\n",
              "      <td>5</td>\n",
              "      <td>옷 너무 이쁩니다. 레이어드 하기에도 너무 좋은거같아요.</td>\n",
              "    </tr>\n",
              "    <tr>\n",
              "      <th>3</th>\n",
              "      <td>긴팔 티셔츠</td>\n",
              "      <td>스트라이프 롱슬리브 블랙</td>\n",
              "      <td>마크 곤잘레스</td>\n",
              "      <td>31,500원</td>\n",
              "      <td>4.9만 회 이상</td>\n",
              "      <td>19038</td>\n",
              "      <td>19~23세 남성 에게 인기 많은 상품</td>\n",
              "      <td>4.8</td>\n",
              "      <td>커요(27%)-보통(72%)-작아요(1%)</td>\n",
              "      <td>밝아요(13%)-보통(85%)-어두워요(2%)</td>\n",
              "      <td>선명해요(35%)-보통(64%)-흐려요(1%)</td>\n",
              "      <td>https://store.musinsa.com/app/goods/1322019</td>\n",
              "      <td>https://image.msscdn.net/images/goods_img/2020...</td>\n",
              "      <td>5</td>\n",
              "      <td>가벼운 긴팔 하나 사고 싶었는데 마크곤잘레스 디자인 정말 이쁘네요ㄷㄷ</td>\n",
              "    </tr>\n",
              "    <tr>\n",
              "      <th>4</th>\n",
              "      <td>긴팔 티셔츠</td>\n",
              "      <td>스트라이프 롱슬리브 블랙</td>\n",
              "      <td>마크 곤잘레스</td>\n",
              "      <td>31,500원</td>\n",
              "      <td>4.9만 회 이상</td>\n",
              "      <td>19038</td>\n",
              "      <td>19~23세 남성 에게 인기 많은 상품</td>\n",
              "      <td>4.8</td>\n",
              "      <td>커요(27%)-보통(72%)-작아요(1%)</td>\n",
              "      <td>밝아요(13%)-보통(85%)-어두워요(2%)</td>\n",
              "      <td>선명해요(35%)-보통(64%)-흐려요(1%)</td>\n",
              "      <td>https://store.musinsa.com/app/goods/1322019</td>\n",
              "      <td>https://image.msscdn.net/images/goods_img/2020...</td>\n",
              "      <td>5</td>\n",
              "      <td>이렇게 이쁜옷을 2만원도 안되게 사서 너무 좋아요!</td>\n",
              "    </tr>\n",
              "  </tbody>\n",
              "</table>\n",
              "</div>\n",
              "      <button class=\"colab-df-convert\" onclick=\"convertToInteractive('df-ec3b00c3-9091-4011-b654-6886c8cf0389')\"\n",
              "              title=\"Convert this dataframe to an interactive table.\"\n",
              "              style=\"display:none;\">\n",
              "        \n",
              "  <svg xmlns=\"http://www.w3.org/2000/svg\" height=\"24px\"viewBox=\"0 0 24 24\"\n",
              "       width=\"24px\">\n",
              "    <path d=\"M0 0h24v24H0V0z\" fill=\"none\"/>\n",
              "    <path d=\"M18.56 5.44l.94 2.06.94-2.06 2.06-.94-2.06-.94-.94-2.06-.94 2.06-2.06.94zm-11 1L8.5 8.5l.94-2.06 2.06-.94-2.06-.94L8.5 2.5l-.94 2.06-2.06.94zm10 10l.94 2.06.94-2.06 2.06-.94-2.06-.94-.94-2.06-.94 2.06-2.06.94z\"/><path d=\"M17.41 7.96l-1.37-1.37c-.4-.4-.92-.59-1.43-.59-.52 0-1.04.2-1.43.59L10.3 9.45l-7.72 7.72c-.78.78-.78 2.05 0 2.83L4 21.41c.39.39.9.59 1.41.59.51 0 1.02-.2 1.41-.59l7.78-7.78 2.81-2.81c.8-.78.8-2.07 0-2.86zM5.41 20L4 18.59l7.72-7.72 1.47 1.35L5.41 20z\"/>\n",
              "  </svg>\n",
              "      </button>\n",
              "      \n",
              "  <style>\n",
              "    .colab-df-container {\n",
              "      display:flex;\n",
              "      flex-wrap:wrap;\n",
              "      gap: 12px;\n",
              "    }\n",
              "\n",
              "    .colab-df-convert {\n",
              "      background-color: #E8F0FE;\n",
              "      border: none;\n",
              "      border-radius: 50%;\n",
              "      cursor: pointer;\n",
              "      display: none;\n",
              "      fill: #1967D2;\n",
              "      height: 32px;\n",
              "      padding: 0 0 0 0;\n",
              "      width: 32px;\n",
              "    }\n",
              "\n",
              "    .colab-df-convert:hover {\n",
              "      background-color: #E2EBFA;\n",
              "      box-shadow: 0px 1px 2px rgba(60, 64, 67, 0.3), 0px 1px 3px 1px rgba(60, 64, 67, 0.15);\n",
              "      fill: #174EA6;\n",
              "    }\n",
              "\n",
              "    [theme=dark] .colab-df-convert {\n",
              "      background-color: #3B4455;\n",
              "      fill: #D2E3FC;\n",
              "    }\n",
              "\n",
              "    [theme=dark] .colab-df-convert:hover {\n",
              "      background-color: #434B5C;\n",
              "      box-shadow: 0px 1px 3px 1px rgba(0, 0, 0, 0.15);\n",
              "      filter: drop-shadow(0px 1px 2px rgba(0, 0, 0, 0.3));\n",
              "      fill: #FFFFFF;\n",
              "    }\n",
              "  </style>\n",
              "\n",
              "      <script>\n",
              "        const buttonEl =\n",
              "          document.querySelector('#df-ec3b00c3-9091-4011-b654-6886c8cf0389 button.colab-df-convert');\n",
              "        buttonEl.style.display =\n",
              "          google.colab.kernel.accessAllowed ? 'block' : 'none';\n",
              "\n",
              "        async function convertToInteractive(key) {\n",
              "          const element = document.querySelector('#df-ec3b00c3-9091-4011-b654-6886c8cf0389');\n",
              "          const dataTable =\n",
              "            await google.colab.kernel.invokeFunction('convertToInteractive',\n",
              "                                                     [key], {});\n",
              "          if (!dataTable) return;\n",
              "\n",
              "          const docLinkHtml = 'Like what you see? Visit the ' +\n",
              "            '<a target=\"_blank\" href=https://colab.research.google.com/notebooks/data_table.ipynb>data table notebook</a>'\n",
              "            + ' to learn more about interactive tables.';\n",
              "          element.innerHTML = '';\n",
              "          dataTable['output_type'] = 'display_data';\n",
              "          await google.colab.output.renderOutput(dataTable, element);\n",
              "          const docLink = document.createElement('div');\n",
              "          docLink.innerHTML = docLinkHtml;\n",
              "          element.appendChild(docLink);\n",
              "        }\n",
              "      </script>\n",
              "    </div>\n",
              "  </div>\n",
              "  "
            ],
            "text/plain": [
              "     하위분류  ...                                             리뷰 텍스트\n",
              "0  긴팔 티셔츠  ...                     사이즈도 넉넉하게 잘 맞고 이쁘네요 재구매의향있습니다.\n",
              "1  긴팔 티셔츠  ...  마크 곤잘레스는 여름티셔츠도 잘 입어서 브랜드에 믿음이 생겨서 긴팔도 주문했는데 원...\n",
              "2  긴팔 티셔츠  ...                    옷 너무 이쁩니다. 레이어드 하기에도 너무 좋은거같아요.\n",
              "3  긴팔 티셔츠  ...             가벼운 긴팔 하나 사고 싶었는데 마크곤잘레스 디자인 정말 이쁘네요ㄷㄷ\n",
              "4  긴팔 티셔츠  ...                       이렇게 이쁜옷을 2만원도 안되게 사서 너무 좋아요!\n",
              "\n",
              "[5 rows x 15 columns]"
            ]
          },
          "metadata": {},
          "execution_count": 6
        }
      ]
    },
    {
      "cell_type": "code",
      "source": [
        "print(rawData.shape) # 행,열 개수 확인\n",
        "print(rawData.isnull().sum()) # 어떤 열에 null값이 있는지 출력"
      ],
      "metadata": {
        "colab": {
          "base_uri": "https://localhost:8080/"
        },
        "id": "dM02R6_2QMkJ",
        "outputId": "9a5dbf86-781e-46f5-9d3b-0f0689fb2cad"
      },
      "execution_count": 7,
      "outputs": [
        {
          "output_type": "stream",
          "name": "stdout",
          "text": [
            "(4513, 15)\n",
            "하위분류       0\n",
            "상품명        0\n",
            "브랜드명       0\n",
            "가격         0\n",
            "판매량       10\n",
            "리뷰 수       0\n",
            "연령대       20\n",
            "전체 평점      0\n",
            "사이즈 전체     0\n",
            "밝기 전체      0\n",
            "색깔 전체      0\n",
            "제품 URL     0\n",
            "제품 이미지     0\n",
            "개인 평점      0\n",
            "리뷰 텍스트     0\n",
            "dtype: int64\n"
          ]
        }
      ]
    },
    {
      "cell_type": "markdown",
      "source": [
        "rawData는 총 4513행 15열의 데이터를 가지고 있습니다. \n",
        "\n",
        "학습용 데이터셋을 만들고 학습용 데이터의 지도학습을 위한 태깅 작업을 하기 위해서는 이중 일부 데이터만 추려낼 필요가 있습니다."
      ],
      "metadata": {
        "id": "UbsQoELHPnnc"
      }
    },
    {
      "cell_type": "code",
      "source": [
        "data = rawData.iloc[::2] #인덱스가 짝수인 행만 선택하여 data 변수에 저장 (행 번호를 기준으로 행 데이터 추출)\n",
        "data.shape # 행이 절반으로 줄어들었습니다."
      ],
      "metadata": {
        "colab": {
          "base_uri": "https://localhost:8080/"
        },
        "id": "dNis-esVPZx5",
        "outputId": "434b0e73-20d6-41b7-9fb2-10d6ac46ab9c"
      },
      "execution_count": 8,
      "outputs": [
        {
          "output_type": "execute_result",
          "data": {
            "text/plain": [
              "(2257, 15)"
            ]
          },
          "metadata": {},
          "execution_count": 8
        }
      ]
    },
    {
      "cell_type": "code",
      "source": [
        "data.to_csv(\"data.csv\", index = None) # 파일로 내보내면서 기존에 남아있는 인덱스는 무시하도록 합니다."
      ],
      "metadata": {
        "id": "_kYpvw44Q6Rr"
      },
      "execution_count": 9,
      "outputs": []
    },
    {
      "cell_type": "code",
      "source": [
        "data = pd.read_csv(\"data.csv\")\n",
        "data.tail() # head()를 통해 하위 5개 데이터를 읽어오면 행이 절반으로 줄어들고 잘 저장된 것을 확인할 수 있습니다."
      ],
      "metadata": {
        "colab": {
          "base_uri": "https://localhost:8080/",
          "height": 1000
        },
        "id": "AH_Xmle0Q8mK",
        "outputId": "836a1300-0bbe-47db-ae42-73258339e24c"
      },
      "execution_count": 16,
      "outputs": [
        {
          "output_type": "execute_result",
          "data": {
            "text/html": [
              "\n",
              "  <div id=\"df-9308927f-ceeb-4103-a1dc-06f2b11e53d5\">\n",
              "    <div class=\"colab-df-container\">\n",
              "      <div>\n",
              "<style scoped>\n",
              "    .dataframe tbody tr th:only-of-type {\n",
              "        vertical-align: middle;\n",
              "    }\n",
              "\n",
              "    .dataframe tbody tr th {\n",
              "        vertical-align: top;\n",
              "    }\n",
              "\n",
              "    .dataframe thead th {\n",
              "        text-align: right;\n",
              "    }\n",
              "</style>\n",
              "<table border=\"1\" class=\"dataframe\">\n",
              "  <thead>\n",
              "    <tr style=\"text-align: right;\">\n",
              "      <th></th>\n",
              "      <th>하위분류</th>\n",
              "      <th>상품명</th>\n",
              "      <th>브랜드명</th>\n",
              "      <th>가격</th>\n",
              "      <th>판매량</th>\n",
              "      <th>리뷰 수</th>\n",
              "      <th>연령대</th>\n",
              "      <th>전체 평점</th>\n",
              "      <th>사이즈 전체</th>\n",
              "      <th>밝기 전체</th>\n",
              "      <th>색깔 전체</th>\n",
              "      <th>제품 URL</th>\n",
              "      <th>제품 이미지</th>\n",
              "      <th>개인 평점</th>\n",
              "      <th>리뷰 텍스트</th>\n",
              "    </tr>\n",
              "  </thead>\n",
              "  <tbody>\n",
              "    <tr>\n",
              "      <th>2252</th>\n",
              "      <td>장갑</td>\n",
              "      <td>케이블 니트 핸드 워머 [블랙]</td>\n",
              "      <td>러닝하이</td>\n",
              "      <td>17,850원</td>\n",
              "      <td>4.5천 회 이상</td>\n",
              "      <td>172</td>\n",
              "      <td>19~23세 여성 에게 인기 많은 상품</td>\n",
              "      <td>4.7</td>\n",
              "      <td>커요(3%)-보통(95%)-작아요(3%)</td>\n",
              "      <td>밝아요(8%)-보통(67%)-어두워요(24%)</td>\n",
              "      <td>선명해요(45%)-보통(54%)-흐려요(1%)</td>\n",
              "      <td>https://store.musinsa.com/app/goods/1662543</td>\n",
              "      <td>https://image.msscdn.net/images/goods_img/2020...</td>\n",
              "      <td>5</td>\n",
              "      <td>이뻐용 따뜻하게 착용할 수 있을 것 같구 살짝 따갑지만 이뻐서 괜찮아요</td>\n",
              "    </tr>\n",
              "    <tr>\n",
              "      <th>2253</th>\n",
              "      <td>장갑</td>\n",
              "      <td>케이블 니트 핸드 워머 [블랙]</td>\n",
              "      <td>러닝하이</td>\n",
              "      <td>17,850원</td>\n",
              "      <td>4.5천 회 이상</td>\n",
              "      <td>172</td>\n",
              "      <td>19~23세 여성 에게 인기 많은 상품</td>\n",
              "      <td>4.7</td>\n",
              "      <td>커요(3%)-보통(95%)-작아요(3%)</td>\n",
              "      <td>밝아요(8%)-보통(67%)-어두워요(24%)</td>\n",
              "      <td>선명해요(45%)-보통(54%)-흐려요(1%)</td>\n",
              "      <td>https://store.musinsa.com/app/goods/1662543</td>\n",
              "      <td>https://image.msscdn.net/images/goods_img/2020...</td>\n",
              "      <td>5</td>\n",
              "      <td>패딩이나 플리스 집업 안에 반팔만 입고 다니는데 긴팔은 싫을때 이 핸드워머 하나 해...</td>\n",
              "    </tr>\n",
              "    <tr>\n",
              "      <th>2254</th>\n",
              "      <td>장갑</td>\n",
              "      <td>케이블 니트 핸드 워머 [블랙]</td>\n",
              "      <td>러닝하이</td>\n",
              "      <td>17,850원</td>\n",
              "      <td>4.5천 회 이상</td>\n",
              "      <td>172</td>\n",
              "      <td>19~23세 여성 에게 인기 많은 상품</td>\n",
              "      <td>4.7</td>\n",
              "      <td>커요(3%)-보통(95%)-작아요(3%)</td>\n",
              "      <td>밝아요(8%)-보통(67%)-어두워요(24%)</td>\n",
              "      <td>선명해요(45%)-보통(54%)-흐려요(1%)</td>\n",
              "      <td>https://store.musinsa.com/app/goods/1662543</td>\n",
              "      <td>https://image.msscdn.net/images/goods_img/2020...</td>\n",
              "      <td>3</td>\n",
              "      <td>거칠지만 따듯하니 좋아요~ 자주 착용하고 나갈 것 같아용</td>\n",
              "    </tr>\n",
              "    <tr>\n",
              "      <th>2255</th>\n",
              "      <td>장갑</td>\n",
              "      <td>케이블 니트 핸드 워머 [블랙]</td>\n",
              "      <td>러닝하이</td>\n",
              "      <td>17,850원</td>\n",
              "      <td>4.5천 회 이상</td>\n",
              "      <td>172</td>\n",
              "      <td>19~23세 여성 에게 인기 많은 상품</td>\n",
              "      <td>4.7</td>\n",
              "      <td>커요(3%)-보통(95%)-작아요(3%)</td>\n",
              "      <td>밝아요(8%)-보통(67%)-어두워요(24%)</td>\n",
              "      <td>선명해요(45%)-보통(54%)-흐려요(1%)</td>\n",
              "      <td>https://store.musinsa.com/app/goods/1662543</td>\n",
              "      <td>https://image.msscdn.net/images/goods_img/2020...</td>\n",
              "      <td>5</td>\n",
              "      <td>이쁘고 따뜻해요. 근데 보풀이 잘 일어나용ㅠ 그래도 나쁘지 않아요</td>\n",
              "    </tr>\n",
              "    <tr>\n",
              "      <th>2256</th>\n",
              "      <td>장갑</td>\n",
              "      <td>케이블 니트 핸드 워머 [블랙]</td>\n",
              "      <td>러닝하이</td>\n",
              "      <td>17,850원</td>\n",
              "      <td>4.5천 회 이상</td>\n",
              "      <td>172</td>\n",
              "      <td>19~23세 여성 에게 인기 많은 상품</td>\n",
              "      <td>4.7</td>\n",
              "      <td>커요(3%)-보통(95%)-작아요(3%)</td>\n",
              "      <td>밝아요(8%)-보통(67%)-어두워요(24%)</td>\n",
              "      <td>선명해요(45%)-보통(54%)-흐려요(1%)</td>\n",
              "      <td>https://store.musinsa.com/app/goods/1662543</td>\n",
              "      <td>https://image.msscdn.net/images/goods_img/2020...</td>\n",
              "      <td>5</td>\n",
              "      <td>생각보다 많이 안까슬거고 이뻐요! 엄지손가락 부분도 딱 맞고 좋습니당</td>\n",
              "    </tr>\n",
              "  </tbody>\n",
              "</table>\n",
              "</div>\n",
              "      <button class=\"colab-df-convert\" onclick=\"convertToInteractive('df-9308927f-ceeb-4103-a1dc-06f2b11e53d5')\"\n",
              "              title=\"Convert this dataframe to an interactive table.\"\n",
              "              style=\"display:none;\">\n",
              "        \n",
              "  <svg xmlns=\"http://www.w3.org/2000/svg\" height=\"24px\"viewBox=\"0 0 24 24\"\n",
              "       width=\"24px\">\n",
              "    <path d=\"M0 0h24v24H0V0z\" fill=\"none\"/>\n",
              "    <path d=\"M18.56 5.44l.94 2.06.94-2.06 2.06-.94-2.06-.94-.94-2.06-.94 2.06-2.06.94zm-11 1L8.5 8.5l.94-2.06 2.06-.94-2.06-.94L8.5 2.5l-.94 2.06-2.06.94zm10 10l.94 2.06.94-2.06 2.06-.94-2.06-.94-.94-2.06-.94 2.06-2.06.94z\"/><path d=\"M17.41 7.96l-1.37-1.37c-.4-.4-.92-.59-1.43-.59-.52 0-1.04.2-1.43.59L10.3 9.45l-7.72 7.72c-.78.78-.78 2.05 0 2.83L4 21.41c.39.39.9.59 1.41.59.51 0 1.02-.2 1.41-.59l7.78-7.78 2.81-2.81c.8-.78.8-2.07 0-2.86zM5.41 20L4 18.59l7.72-7.72 1.47 1.35L5.41 20z\"/>\n",
              "  </svg>\n",
              "      </button>\n",
              "      \n",
              "  <style>\n",
              "    .colab-df-container {\n",
              "      display:flex;\n",
              "      flex-wrap:wrap;\n",
              "      gap: 12px;\n",
              "    }\n",
              "\n",
              "    .colab-df-convert {\n",
              "      background-color: #E8F0FE;\n",
              "      border: none;\n",
              "      border-radius: 50%;\n",
              "      cursor: pointer;\n",
              "      display: none;\n",
              "      fill: #1967D2;\n",
              "      height: 32px;\n",
              "      padding: 0 0 0 0;\n",
              "      width: 32px;\n",
              "    }\n",
              "\n",
              "    .colab-df-convert:hover {\n",
              "      background-color: #E2EBFA;\n",
              "      box-shadow: 0px 1px 2px rgba(60, 64, 67, 0.3), 0px 1px 3px 1px rgba(60, 64, 67, 0.15);\n",
              "      fill: #174EA6;\n",
              "    }\n",
              "\n",
              "    [theme=dark] .colab-df-convert {\n",
              "      background-color: #3B4455;\n",
              "      fill: #D2E3FC;\n",
              "    }\n",
              "\n",
              "    [theme=dark] .colab-df-convert:hover {\n",
              "      background-color: #434B5C;\n",
              "      box-shadow: 0px 1px 3px 1px rgba(0, 0, 0, 0.15);\n",
              "      filter: drop-shadow(0px 1px 2px rgba(0, 0, 0, 0.3));\n",
              "      fill: #FFFFFF;\n",
              "    }\n",
              "  </style>\n",
              "\n",
              "      <script>\n",
              "        const buttonEl =\n",
              "          document.querySelector('#df-9308927f-ceeb-4103-a1dc-06f2b11e53d5 button.colab-df-convert');\n",
              "        buttonEl.style.display =\n",
              "          google.colab.kernel.accessAllowed ? 'block' : 'none';\n",
              "\n",
              "        async function convertToInteractive(key) {\n",
              "          const element = document.querySelector('#df-9308927f-ceeb-4103-a1dc-06f2b11e53d5');\n",
              "          const dataTable =\n",
              "            await google.colab.kernel.invokeFunction('convertToInteractive',\n",
              "                                                     [key], {});\n",
              "          if (!dataTable) return;\n",
              "\n",
              "          const docLinkHtml = 'Like what you see? Visit the ' +\n",
              "            '<a target=\"_blank\" href=https://colab.research.google.com/notebooks/data_table.ipynb>data table notebook</a>'\n",
              "            + ' to learn more about interactive tables.';\n",
              "          element.innerHTML = '';\n",
              "          dataTable['output_type'] = 'display_data';\n",
              "          await google.colab.output.renderOutput(dataTable, element);\n",
              "          const docLink = document.createElement('div');\n",
              "          docLink.innerHTML = docLinkHtml;\n",
              "          element.appendChild(docLink);\n",
              "        }\n",
              "      </script>\n",
              "    </div>\n",
              "  </div>\n",
              "  "
            ],
            "text/plain": [
              "     하위분류  ...                                             리뷰 텍스트\n",
              "2252   장갑  ...            이뻐용 따뜻하게 착용할 수 있을 것 같구 살짝 따갑지만 이뻐서 괜찮아요\n",
              "2253   장갑  ...  패딩이나 플리스 집업 안에 반팔만 입고 다니는데 긴팔은 싫을때 이 핸드워머 하나 해...\n",
              "2254   장갑  ...                    거칠지만 따듯하니 좋아요~ 자주 착용하고 나갈 것 같아용\n",
              "2255   장갑  ...               이쁘고 따뜻해요. 근데 보풀이 잘 일어나용ㅠ 그래도 나쁘지 않아요\n",
              "2256   장갑  ...             생각보다 많이 안까슬거고 이뻐요! 엄지손가락 부분도 딱 맞고 좋습니당\n",
              "\n",
              "[5 rows x 15 columns]"
            ]
          },
          "metadata": {},
          "execution_count": 16
        }
      ]
    },
    {
      "cell_type": "markdown",
      "source": [
        "해당 데이터의 전처리는 한국어 사용자가 인터넷 환경에서 사용하는 자연어라는 특성을 고려하여 처리해주어야 합니다.\n"
      ],
      "metadata": {
        "id": "H7970MJJUBjE"
      }
    },
    {
      "cell_type": "code",
      "source": [
        "# 불필요한 컬럼 삭제 \n",
        "\n",
        "data = data['리뷰 텍스트']\n",
        "data.to_csv('data_filtered.csv', index = None)"
      ],
      "metadata": {
        "id": "IJrWhrBPRcop"
      },
      "execution_count": null,
      "outputs": []
    },
    {
      "cell_type": "code",
      "source": [
        "data = pd.read_csv('data_filtered.csv')\n",
        "data.head()"
      ],
      "metadata": {
        "colab": {
          "base_uri": "https://localhost:8080/",
          "height": 206
        },
        "id": "CWBjTbkGUkfG",
        "outputId": "5049b834-6549-4e83-e6dd-07c06b638e13"
      },
      "execution_count": 18,
      "outputs": [
        {
          "output_type": "execute_result",
          "data": {
            "text/html": [
              "\n",
              "  <div id=\"df-0f0703f2-b502-4cea-b425-e79e8f872700\">\n",
              "    <div class=\"colab-df-container\">\n",
              "      <div>\n",
              "<style scoped>\n",
              "    .dataframe tbody tr th:only-of-type {\n",
              "        vertical-align: middle;\n",
              "    }\n",
              "\n",
              "    .dataframe tbody tr th {\n",
              "        vertical-align: top;\n",
              "    }\n",
              "\n",
              "    .dataframe thead th {\n",
              "        text-align: right;\n",
              "    }\n",
              "</style>\n",
              "<table border=\"1\" class=\"dataframe\">\n",
              "  <thead>\n",
              "    <tr style=\"text-align: right;\">\n",
              "      <th></th>\n",
              "      <th>리뷰 텍스트</th>\n",
              "    </tr>\n",
              "  </thead>\n",
              "  <tbody>\n",
              "    <tr>\n",
              "      <th>0</th>\n",
              "      <td>사이즈도 넉넉하게 잘 맞고 이쁘네요 재구매의향있습니다.</td>\n",
              "    </tr>\n",
              "    <tr>\n",
              "      <th>1</th>\n",
              "      <td>옷 너무 이쁩니다. 레이어드 하기에도 너무 좋은거같아요.</td>\n",
              "    </tr>\n",
              "    <tr>\n",
              "      <th>2</th>\n",
              "      <td>이렇게 이쁜옷을 2만원도 안되게 사서 너무 좋아요!</td>\n",
              "    </tr>\n",
              "    <tr>\n",
              "      <th>3</th>\n",
              "      <td>친구 생일 선물로 사줬는데 너무너무 좋아해서 뿌듯합니다!</td>\n",
              "    </tr>\n",
              "    <tr>\n",
              "      <th>4</th>\n",
              "      <td>핏이도 예쁘고 스트라이프라서 어깨도 넓어보이네요 귀여운 남친룩으로 입기 좋을거 같아요</td>\n",
              "    </tr>\n",
              "  </tbody>\n",
              "</table>\n",
              "</div>\n",
              "      <button class=\"colab-df-convert\" onclick=\"convertToInteractive('df-0f0703f2-b502-4cea-b425-e79e8f872700')\"\n",
              "              title=\"Convert this dataframe to an interactive table.\"\n",
              "              style=\"display:none;\">\n",
              "        \n",
              "  <svg xmlns=\"http://www.w3.org/2000/svg\" height=\"24px\"viewBox=\"0 0 24 24\"\n",
              "       width=\"24px\">\n",
              "    <path d=\"M0 0h24v24H0V0z\" fill=\"none\"/>\n",
              "    <path d=\"M18.56 5.44l.94 2.06.94-2.06 2.06-.94-2.06-.94-.94-2.06-.94 2.06-2.06.94zm-11 1L8.5 8.5l.94-2.06 2.06-.94-2.06-.94L8.5 2.5l-.94 2.06-2.06.94zm10 10l.94 2.06.94-2.06 2.06-.94-2.06-.94-.94-2.06-.94 2.06-2.06.94z\"/><path d=\"M17.41 7.96l-1.37-1.37c-.4-.4-.92-.59-1.43-.59-.52 0-1.04.2-1.43.59L10.3 9.45l-7.72 7.72c-.78.78-.78 2.05 0 2.83L4 21.41c.39.39.9.59 1.41.59.51 0 1.02-.2 1.41-.59l7.78-7.78 2.81-2.81c.8-.78.8-2.07 0-2.86zM5.41 20L4 18.59l7.72-7.72 1.47 1.35L5.41 20z\"/>\n",
              "  </svg>\n",
              "      </button>\n",
              "      \n",
              "  <style>\n",
              "    .colab-df-container {\n",
              "      display:flex;\n",
              "      flex-wrap:wrap;\n",
              "      gap: 12px;\n",
              "    }\n",
              "\n",
              "    .colab-df-convert {\n",
              "      background-color: #E8F0FE;\n",
              "      border: none;\n",
              "      border-radius: 50%;\n",
              "      cursor: pointer;\n",
              "      display: none;\n",
              "      fill: #1967D2;\n",
              "      height: 32px;\n",
              "      padding: 0 0 0 0;\n",
              "      width: 32px;\n",
              "    }\n",
              "\n",
              "    .colab-df-convert:hover {\n",
              "      background-color: #E2EBFA;\n",
              "      box-shadow: 0px 1px 2px rgba(60, 64, 67, 0.3), 0px 1px 3px 1px rgba(60, 64, 67, 0.15);\n",
              "      fill: #174EA6;\n",
              "    }\n",
              "\n",
              "    [theme=dark] .colab-df-convert {\n",
              "      background-color: #3B4455;\n",
              "      fill: #D2E3FC;\n",
              "    }\n",
              "\n",
              "    [theme=dark] .colab-df-convert:hover {\n",
              "      background-color: #434B5C;\n",
              "      box-shadow: 0px 1px 3px 1px rgba(0, 0, 0, 0.15);\n",
              "      filter: drop-shadow(0px 1px 2px rgba(0, 0, 0, 0.3));\n",
              "      fill: #FFFFFF;\n",
              "    }\n",
              "  </style>\n",
              "\n",
              "      <script>\n",
              "        const buttonEl =\n",
              "          document.querySelector('#df-0f0703f2-b502-4cea-b425-e79e8f872700 button.colab-df-convert');\n",
              "        buttonEl.style.display =\n",
              "          google.colab.kernel.accessAllowed ? 'block' : 'none';\n",
              "\n",
              "        async function convertToInteractive(key) {\n",
              "          const element = document.querySelector('#df-0f0703f2-b502-4cea-b425-e79e8f872700');\n",
              "          const dataTable =\n",
              "            await google.colab.kernel.invokeFunction('convertToInteractive',\n",
              "                                                     [key], {});\n",
              "          if (!dataTable) return;\n",
              "\n",
              "          const docLinkHtml = 'Like what you see? Visit the ' +\n",
              "            '<a target=\"_blank\" href=https://colab.research.google.com/notebooks/data_table.ipynb>data table notebook</a>'\n",
              "            + ' to learn more about interactive tables.';\n",
              "          element.innerHTML = '';\n",
              "          dataTable['output_type'] = 'display_data';\n",
              "          await google.colab.output.renderOutput(dataTable, element);\n",
              "          const docLink = document.createElement('div');\n",
              "          docLink.innerHTML = docLinkHtml;\n",
              "          element.appendChild(docLink);\n",
              "        }\n",
              "      </script>\n",
              "    </div>\n",
              "  </div>\n",
              "  "
            ],
            "text/plain": [
              "                                            리뷰 텍스트\n",
              "0                   사이즈도 넉넉하게 잘 맞고 이쁘네요 재구매의향있습니다.\n",
              "1                  옷 너무 이쁩니다. 레이어드 하기에도 너무 좋은거같아요.\n",
              "2                     이렇게 이쁜옷을 2만원도 안되게 사서 너무 좋아요!\n",
              "3                  친구 생일 선물로 사줬는데 너무너무 좋아해서 뿌듯합니다!\n",
              "4  핏이도 예쁘고 스트라이프라서 어깨도 넓어보이네요 귀여운 남친룩으로 입기 좋을거 같아요"
            ]
          },
          "metadata": {},
          "execution_count": 18
        }
      ]
    },
    {
      "cell_type": "code",
      "source": [
        "# train, test 데이터셋을 분기 합니다.\n",
        "\n",
        "np.random.seed(1000) # 동일한 결과 얻기 위해 시드값은 1000으로 설정합니다.\n",
        "\n",
        "train, test = train_test_split(data, test_size=0.3) # 학습용 데이터와 테스트 데이터를 7 대 3 비율로 분리합니다.\n",
        "train.to_csv(\"train.csv\", index = None)\n",
        "test.to_csv(\"test.csv\", index = None)\n",
        "print(train.shape)\n",
        "print(test.shape)"
      ],
      "metadata": {
        "colab": {
          "base_uri": "https://localhost:8080/"
        },
        "id": "Xpu42BU2UmU6",
        "outputId": "aa7bf797-63dc-4b83-b7f7-379a685cdc25"
      },
      "execution_count": 19,
      "outputs": [
        {
          "output_type": "stream",
          "name": "stdout",
          "text": [
            "(1579, 1)\n",
            "(678, 1)\n"
          ]
        }
      ]
    },
    {
      "cell_type": "code",
      "source": [
        "train.head()"
      ],
      "metadata": {
        "colab": {
          "base_uri": "https://localhost:8080/",
          "height": 206
        },
        "id": "aH8ppmTLVsXS",
        "outputId": "7f7b5a37-58dd-4b65-cecc-3211557aa9be"
      },
      "execution_count": 20,
      "outputs": [
        {
          "output_type": "execute_result",
          "data": {
            "text/html": [
              "\n",
              "  <div id=\"df-023068fe-b5b3-4383-81cb-db53465f9caf\">\n",
              "    <div class=\"colab-df-container\">\n",
              "      <div>\n",
              "<style scoped>\n",
              "    .dataframe tbody tr th:only-of-type {\n",
              "        vertical-align: middle;\n",
              "    }\n",
              "\n",
              "    .dataframe tbody tr th {\n",
              "        vertical-align: top;\n",
              "    }\n",
              "\n",
              "    .dataframe thead th {\n",
              "        text-align: right;\n",
              "    }\n",
              "</style>\n",
              "<table border=\"1\" class=\"dataframe\">\n",
              "  <thead>\n",
              "    <tr style=\"text-align: right;\">\n",
              "      <th></th>\n",
              "      <th>리뷰 텍스트</th>\n",
              "    </tr>\n",
              "  </thead>\n",
              "  <tbody>\n",
              "    <tr>\n",
              "      <th>2214</th>\n",
              "      <td>생각보다 무난해서 더 좋았던것 같아요 ! 뭔가 디테일이 많이 튈거라고 생각해서 걱정했는데</td>\n",
              "    </tr>\n",
              "    <tr>\n",
              "      <th>53</th>\n",
              "      <td>사진에 보이는 색상처럼 괜찮은 독특한 블루색입니다 기모가 쨩쨩해서 춥진 않을듯합니다...</td>\n",
              "    </tr>\n",
              "    <tr>\n",
              "      <th>255</th>\n",
              "      <td>재질도좋고 촉감도 좋습니다~ 배송 역시 빠르고 마니파세요</td>\n",
              "    </tr>\n",
              "    <tr>\n",
              "      <th>443</th>\n",
              "      <td>교복에 입기 정말 무난한 후드집업 ㅎㅎ 사이즈도 넉넉하니 귀여워요</td>\n",
              "    </tr>\n",
              "    <tr>\n",
              "      <th>766</th>\n",
              "      <td>생각보다 조금 얇은 느낌이긴 한데 그래서 여름에 입기 좋은 것 같아요</td>\n",
              "    </tr>\n",
              "  </tbody>\n",
              "</table>\n",
              "</div>\n",
              "      <button class=\"colab-df-convert\" onclick=\"convertToInteractive('df-023068fe-b5b3-4383-81cb-db53465f9caf')\"\n",
              "              title=\"Convert this dataframe to an interactive table.\"\n",
              "              style=\"display:none;\">\n",
              "        \n",
              "  <svg xmlns=\"http://www.w3.org/2000/svg\" height=\"24px\"viewBox=\"0 0 24 24\"\n",
              "       width=\"24px\">\n",
              "    <path d=\"M0 0h24v24H0V0z\" fill=\"none\"/>\n",
              "    <path d=\"M18.56 5.44l.94 2.06.94-2.06 2.06-.94-2.06-.94-.94-2.06-.94 2.06-2.06.94zm-11 1L8.5 8.5l.94-2.06 2.06-.94-2.06-.94L8.5 2.5l-.94 2.06-2.06.94zm10 10l.94 2.06.94-2.06 2.06-.94-2.06-.94-.94-2.06-.94 2.06-2.06.94z\"/><path d=\"M17.41 7.96l-1.37-1.37c-.4-.4-.92-.59-1.43-.59-.52 0-1.04.2-1.43.59L10.3 9.45l-7.72 7.72c-.78.78-.78 2.05 0 2.83L4 21.41c.39.39.9.59 1.41.59.51 0 1.02-.2 1.41-.59l7.78-7.78 2.81-2.81c.8-.78.8-2.07 0-2.86zM5.41 20L4 18.59l7.72-7.72 1.47 1.35L5.41 20z\"/>\n",
              "  </svg>\n",
              "      </button>\n",
              "      \n",
              "  <style>\n",
              "    .colab-df-container {\n",
              "      display:flex;\n",
              "      flex-wrap:wrap;\n",
              "      gap: 12px;\n",
              "    }\n",
              "\n",
              "    .colab-df-convert {\n",
              "      background-color: #E8F0FE;\n",
              "      border: none;\n",
              "      border-radius: 50%;\n",
              "      cursor: pointer;\n",
              "      display: none;\n",
              "      fill: #1967D2;\n",
              "      height: 32px;\n",
              "      padding: 0 0 0 0;\n",
              "      width: 32px;\n",
              "    }\n",
              "\n",
              "    .colab-df-convert:hover {\n",
              "      background-color: #E2EBFA;\n",
              "      box-shadow: 0px 1px 2px rgba(60, 64, 67, 0.3), 0px 1px 3px 1px rgba(60, 64, 67, 0.15);\n",
              "      fill: #174EA6;\n",
              "    }\n",
              "\n",
              "    [theme=dark] .colab-df-convert {\n",
              "      background-color: #3B4455;\n",
              "      fill: #D2E3FC;\n",
              "    }\n",
              "\n",
              "    [theme=dark] .colab-df-convert:hover {\n",
              "      background-color: #434B5C;\n",
              "      box-shadow: 0px 1px 3px 1px rgba(0, 0, 0, 0.15);\n",
              "      filter: drop-shadow(0px 1px 2px rgba(0, 0, 0, 0.3));\n",
              "      fill: #FFFFFF;\n",
              "    }\n",
              "  </style>\n",
              "\n",
              "      <script>\n",
              "        const buttonEl =\n",
              "          document.querySelector('#df-023068fe-b5b3-4383-81cb-db53465f9caf button.colab-df-convert');\n",
              "        buttonEl.style.display =\n",
              "          google.colab.kernel.accessAllowed ? 'block' : 'none';\n",
              "\n",
              "        async function convertToInteractive(key) {\n",
              "          const element = document.querySelector('#df-023068fe-b5b3-4383-81cb-db53465f9caf');\n",
              "          const dataTable =\n",
              "            await google.colab.kernel.invokeFunction('convertToInteractive',\n",
              "                                                     [key], {});\n",
              "          if (!dataTable) return;\n",
              "\n",
              "          const docLinkHtml = 'Like what you see? Visit the ' +\n",
              "            '<a target=\"_blank\" href=https://colab.research.google.com/notebooks/data_table.ipynb>data table notebook</a>'\n",
              "            + ' to learn more about interactive tables.';\n",
              "          element.innerHTML = '';\n",
              "          dataTable['output_type'] = 'display_data';\n",
              "          await google.colab.output.renderOutput(dataTable, element);\n",
              "          const docLink = document.createElement('div');\n",
              "          docLink.innerHTML = docLinkHtml;\n",
              "          element.appendChild(docLink);\n",
              "        }\n",
              "      </script>\n",
              "    </div>\n",
              "  </div>\n",
              "  "
            ],
            "text/plain": [
              "                                                 리뷰 텍스트\n",
              "2214  생각보다 무난해서 더 좋았던것 같아요 ! 뭔가 디테일이 많이 튈거라고 생각해서 걱정했는데\n",
              "53    사진에 보이는 색상처럼 괜찮은 독특한 블루색입니다 기모가 쨩쨩해서 춥진 않을듯합니다...\n",
              "255                     재질도좋고 촉감도 좋습니다~ 배송 역시 빠르고 마니파세요\n",
              "443                교복에 입기 정말 무난한 후드집업 ㅎㅎ 사이즈도 넉넉하니 귀여워요\n",
              "766              생각보다 조금 얇은 느낌이긴 한데 그래서 여름에 입기 좋은 것 같아요"
            ]
          },
          "metadata": {},
          "execution_count": 20
        }
      ]
    },
    {
      "cell_type": "code",
      "source": [
        "test.head()"
      ],
      "metadata": {
        "colab": {
          "base_uri": "https://localhost:8080/",
          "height": 206
        },
        "id": "S3WWphAEVtnC",
        "outputId": "cc2b3006-46cd-4178-e063-870e1348321d"
      },
      "execution_count": 21,
      "outputs": [
        {
          "output_type": "execute_result",
          "data": {
            "text/html": [
              "\n",
              "  <div id=\"df-fe96432a-189e-4e8c-a717-8d09c100e10b\">\n",
              "    <div class=\"colab-df-container\">\n",
              "      <div>\n",
              "<style scoped>\n",
              "    .dataframe tbody tr th:only-of-type {\n",
              "        vertical-align: middle;\n",
              "    }\n",
              "\n",
              "    .dataframe tbody tr th {\n",
              "        vertical-align: top;\n",
              "    }\n",
              "\n",
              "    .dataframe thead th {\n",
              "        text-align: right;\n",
              "    }\n",
              "</style>\n",
              "<table border=\"1\" class=\"dataframe\">\n",
              "  <thead>\n",
              "    <tr style=\"text-align: right;\">\n",
              "      <th></th>\n",
              "      <th>리뷰 텍스트</th>\n",
              "    </tr>\n",
              "  </thead>\n",
              "  <tbody>\n",
              "    <tr>\n",
              "      <th>528</th>\n",
              "      <td>좋아용 ㅎㅎ 보세 인터넷 쇼핑몰에서 싼거 3만원짜리? 시켰다가 퀄 개구려서 반품하고...</td>\n",
              "    </tr>\n",
              "    <tr>\n",
              "      <th>1884</th>\n",
              "      <td>여자친구가 입는다고 샀는데 딱 맞는다고 하네요!</td>\n",
              "    </tr>\n",
              "    <tr>\n",
              "      <th>882</th>\n",
              "      <td>진짜 너무 이쁜데 너무 짧아요... 155보다 작으셔야 일상생활 가능할것 같아요 계...</td>\n",
              "    </tr>\n",
              "    <tr>\n",
              "      <th>508</th>\n",
              "      <td>아주 가성비로 잘산거 같습니다. 너무 맘에들어요. 환절기에 자주 입을 것 같습니다.</td>\n",
              "    </tr>\n",
              "    <tr>\n",
              "      <th>126</th>\n",
              "      <td>생각보다 끈이 좀 흐물거려서 조심해야 할 듯 리본 묶으니 이쁨</td>\n",
              "    </tr>\n",
              "  </tbody>\n",
              "</table>\n",
              "</div>\n",
              "      <button class=\"colab-df-convert\" onclick=\"convertToInteractive('df-fe96432a-189e-4e8c-a717-8d09c100e10b')\"\n",
              "              title=\"Convert this dataframe to an interactive table.\"\n",
              "              style=\"display:none;\">\n",
              "        \n",
              "  <svg xmlns=\"http://www.w3.org/2000/svg\" height=\"24px\"viewBox=\"0 0 24 24\"\n",
              "       width=\"24px\">\n",
              "    <path d=\"M0 0h24v24H0V0z\" fill=\"none\"/>\n",
              "    <path d=\"M18.56 5.44l.94 2.06.94-2.06 2.06-.94-2.06-.94-.94-2.06-.94 2.06-2.06.94zm-11 1L8.5 8.5l.94-2.06 2.06-.94-2.06-.94L8.5 2.5l-.94 2.06-2.06.94zm10 10l.94 2.06.94-2.06 2.06-.94-2.06-.94-.94-2.06-.94 2.06-2.06.94z\"/><path d=\"M17.41 7.96l-1.37-1.37c-.4-.4-.92-.59-1.43-.59-.52 0-1.04.2-1.43.59L10.3 9.45l-7.72 7.72c-.78.78-.78 2.05 0 2.83L4 21.41c.39.39.9.59 1.41.59.51 0 1.02-.2 1.41-.59l7.78-7.78 2.81-2.81c.8-.78.8-2.07 0-2.86zM5.41 20L4 18.59l7.72-7.72 1.47 1.35L5.41 20z\"/>\n",
              "  </svg>\n",
              "      </button>\n",
              "      \n",
              "  <style>\n",
              "    .colab-df-container {\n",
              "      display:flex;\n",
              "      flex-wrap:wrap;\n",
              "      gap: 12px;\n",
              "    }\n",
              "\n",
              "    .colab-df-convert {\n",
              "      background-color: #E8F0FE;\n",
              "      border: none;\n",
              "      border-radius: 50%;\n",
              "      cursor: pointer;\n",
              "      display: none;\n",
              "      fill: #1967D2;\n",
              "      height: 32px;\n",
              "      padding: 0 0 0 0;\n",
              "      width: 32px;\n",
              "    }\n",
              "\n",
              "    .colab-df-convert:hover {\n",
              "      background-color: #E2EBFA;\n",
              "      box-shadow: 0px 1px 2px rgba(60, 64, 67, 0.3), 0px 1px 3px 1px rgba(60, 64, 67, 0.15);\n",
              "      fill: #174EA6;\n",
              "    }\n",
              "\n",
              "    [theme=dark] .colab-df-convert {\n",
              "      background-color: #3B4455;\n",
              "      fill: #D2E3FC;\n",
              "    }\n",
              "\n",
              "    [theme=dark] .colab-df-convert:hover {\n",
              "      background-color: #434B5C;\n",
              "      box-shadow: 0px 1px 3px 1px rgba(0, 0, 0, 0.15);\n",
              "      filter: drop-shadow(0px 1px 2px rgba(0, 0, 0, 0.3));\n",
              "      fill: #FFFFFF;\n",
              "    }\n",
              "  </style>\n",
              "\n",
              "      <script>\n",
              "        const buttonEl =\n",
              "          document.querySelector('#df-fe96432a-189e-4e8c-a717-8d09c100e10b button.colab-df-convert');\n",
              "        buttonEl.style.display =\n",
              "          google.colab.kernel.accessAllowed ? 'block' : 'none';\n",
              "\n",
              "        async function convertToInteractive(key) {\n",
              "          const element = document.querySelector('#df-fe96432a-189e-4e8c-a717-8d09c100e10b');\n",
              "          const dataTable =\n",
              "            await google.colab.kernel.invokeFunction('convertToInteractive',\n",
              "                                                     [key], {});\n",
              "          if (!dataTable) return;\n",
              "\n",
              "          const docLinkHtml = 'Like what you see? Visit the ' +\n",
              "            '<a target=\"_blank\" href=https://colab.research.google.com/notebooks/data_table.ipynb>data table notebook</a>'\n",
              "            + ' to learn more about interactive tables.';\n",
              "          element.innerHTML = '';\n",
              "          dataTable['output_type'] = 'display_data';\n",
              "          await google.colab.output.renderOutput(dataTable, element);\n",
              "          const docLink = document.createElement('div');\n",
              "          docLink.innerHTML = docLinkHtml;\n",
              "          element.appendChild(docLink);\n",
              "        }\n",
              "      </script>\n",
              "    </div>\n",
              "  </div>\n",
              "  "
            ],
            "text/plain": [
              "                                                 리뷰 텍스트\n",
              "528   좋아용 ㅎㅎ 보세 인터넷 쇼핑몰에서 싼거 3만원짜리? 시켰다가 퀄 개구려서 반품하고...\n",
              "1884                         여자친구가 입는다고 샀는데 딱 맞는다고 하네요!\n",
              "882   진짜 너무 이쁜데 너무 짧아요... 155보다 작으셔야 일상생활 가능할것 같아요 계...\n",
              "508      아주 가성비로 잘산거 같습니다. 너무 맘에들어요. 환절기에 자주 입을 것 같습니다.\n",
              "126                  생각보다 끈이 좀 흐물거려서 조심해야 할 듯 리본 묶으니 이쁨"
            ]
          },
          "metadata": {},
          "execution_count": 21
        }
      ]
    },
    {
      "cell_type": "code",
      "source": [
        "train = pd.read_csv(\"train.csv\")"
      ],
      "metadata": {
        "id": "mjb-OL5DVvYs"
      },
      "execution_count": 22,
      "outputs": []
    },
    {
      "cell_type": "markdown",
      "source": [
        "## 3-1. 맞춤법 교정 처리 (Py-Hanspell)"
      ],
      "metadata": {
        "id": "gzReaovtD9mA"
      }
    },
    {
      "cell_type": "code",
      "source": [
        "train_checked = train['리뷰 텍스트']\n",
        "\n",
        "for i in tqdm(range(len(train))): \n",
        "  result_train = spell_checker.check(train['리뷰 텍스트'][i]) \n",
        "  train_checked[i] = result_train.as_dict()['checked'] \n",
        "\n",
        "#tqdm() 모듈을 통해 맞춤법교정 진행율을 체크합니다."
      ],
      "metadata": {
        "colab": {
          "base_uri": "https://localhost:8080/"
        },
        "id": "AWIIM9gcZcN2",
        "outputId": "a866b630-f91d-4e1d-da4b-86280ff340e6"
      },
      "execution_count": null,
      "outputs": [
        {
          "output_type": "stream",
          "name": "stderr",
          "text": [
            "100%|██████████| 1579/1579 [06:28<00:00,  4.06it/s]\n"
          ]
        }
      ]
    },
    {
      "cell_type": "code",
      "source": [
        "train.head() # 처리 전"
      ],
      "metadata": {
        "colab": {
          "base_uri": "https://localhost:8080/",
          "height": 206
        },
        "id": "5xTNulvYavfM",
        "outputId": "3076f7ec-5f56-4f9b-9ecd-0c34f7139a48"
      },
      "execution_count": null,
      "outputs": [
        {
          "output_type": "execute_result",
          "data": {
            "text/html": [
              "\n",
              "  <div id=\"df-110bed9a-fe8d-4d34-a171-8dc3bab6037c\">\n",
              "    <div class=\"colab-df-container\">\n",
              "      <div>\n",
              "<style scoped>\n",
              "    .dataframe tbody tr th:only-of-type {\n",
              "        vertical-align: middle;\n",
              "    }\n",
              "\n",
              "    .dataframe tbody tr th {\n",
              "        vertical-align: top;\n",
              "    }\n",
              "\n",
              "    .dataframe thead th {\n",
              "        text-align: right;\n",
              "    }\n",
              "</style>\n",
              "<table border=\"1\" class=\"dataframe\">\n",
              "  <thead>\n",
              "    <tr style=\"text-align: right;\">\n",
              "      <th></th>\n",
              "      <th>리뷰 텍스트</th>\n",
              "    </tr>\n",
              "  </thead>\n",
              "  <tbody>\n",
              "    <tr>\n",
              "      <th>0</th>\n",
              "      <td>생각보다 무난해서 더 좋았던것 같아요 ! 뭔가 디테일이 많이 튈거라고 생각해서 걱정했는데</td>\n",
              "    </tr>\n",
              "    <tr>\n",
              "      <th>1</th>\n",
              "      <td>사진에 보이는 색상처럼 괜찮은 독특한 블루색입니다 기모가 쨩쨩해서 춥진 않을듯합니다...</td>\n",
              "    </tr>\n",
              "    <tr>\n",
              "      <th>2</th>\n",
              "      <td>재질도좋고 촉감도 좋습니다~ 배송 역시 빠르고 마니파세요</td>\n",
              "    </tr>\n",
              "    <tr>\n",
              "      <th>3</th>\n",
              "      <td>교복에 입기 정말 무난한 후드집업 ㅎㅎ 사이즈도 넉넉하니 귀여워요</td>\n",
              "    </tr>\n",
              "    <tr>\n",
              "      <th>4</th>\n",
              "      <td>생각보다 조금 얇은 느낌이긴 한데 그래서 여름에 입기 좋은 것 같아요</td>\n",
              "    </tr>\n",
              "  </tbody>\n",
              "</table>\n",
              "</div>\n",
              "      <button class=\"colab-df-convert\" onclick=\"convertToInteractive('df-110bed9a-fe8d-4d34-a171-8dc3bab6037c')\"\n",
              "              title=\"Convert this dataframe to an interactive table.\"\n",
              "              style=\"display:none;\">\n",
              "        \n",
              "  <svg xmlns=\"http://www.w3.org/2000/svg\" height=\"24px\"viewBox=\"0 0 24 24\"\n",
              "       width=\"24px\">\n",
              "    <path d=\"M0 0h24v24H0V0z\" fill=\"none\"/>\n",
              "    <path d=\"M18.56 5.44l.94 2.06.94-2.06 2.06-.94-2.06-.94-.94-2.06-.94 2.06-2.06.94zm-11 1L8.5 8.5l.94-2.06 2.06-.94-2.06-.94L8.5 2.5l-.94 2.06-2.06.94zm10 10l.94 2.06.94-2.06 2.06-.94-2.06-.94-.94-2.06-.94 2.06-2.06.94z\"/><path d=\"M17.41 7.96l-1.37-1.37c-.4-.4-.92-.59-1.43-.59-.52 0-1.04.2-1.43.59L10.3 9.45l-7.72 7.72c-.78.78-.78 2.05 0 2.83L4 21.41c.39.39.9.59 1.41.59.51 0 1.02-.2 1.41-.59l7.78-7.78 2.81-2.81c.8-.78.8-2.07 0-2.86zM5.41 20L4 18.59l7.72-7.72 1.47 1.35L5.41 20z\"/>\n",
              "  </svg>\n",
              "      </button>\n",
              "      \n",
              "  <style>\n",
              "    .colab-df-container {\n",
              "      display:flex;\n",
              "      flex-wrap:wrap;\n",
              "      gap: 12px;\n",
              "    }\n",
              "\n",
              "    .colab-df-convert {\n",
              "      background-color: #E8F0FE;\n",
              "      border: none;\n",
              "      border-radius: 50%;\n",
              "      cursor: pointer;\n",
              "      display: none;\n",
              "      fill: #1967D2;\n",
              "      height: 32px;\n",
              "      padding: 0 0 0 0;\n",
              "      width: 32px;\n",
              "    }\n",
              "\n",
              "    .colab-df-convert:hover {\n",
              "      background-color: #E2EBFA;\n",
              "      box-shadow: 0px 1px 2px rgba(60, 64, 67, 0.3), 0px 1px 3px 1px rgba(60, 64, 67, 0.15);\n",
              "      fill: #174EA6;\n",
              "    }\n",
              "\n",
              "    [theme=dark] .colab-df-convert {\n",
              "      background-color: #3B4455;\n",
              "      fill: #D2E3FC;\n",
              "    }\n",
              "\n",
              "    [theme=dark] .colab-df-convert:hover {\n",
              "      background-color: #434B5C;\n",
              "      box-shadow: 0px 1px 3px 1px rgba(0, 0, 0, 0.15);\n",
              "      filter: drop-shadow(0px 1px 2px rgba(0, 0, 0, 0.3));\n",
              "      fill: #FFFFFF;\n",
              "    }\n",
              "  </style>\n",
              "\n",
              "      <script>\n",
              "        const buttonEl =\n",
              "          document.querySelector('#df-110bed9a-fe8d-4d34-a171-8dc3bab6037c button.colab-df-convert');\n",
              "        buttonEl.style.display =\n",
              "          google.colab.kernel.accessAllowed ? 'block' : 'none';\n",
              "\n",
              "        async function convertToInteractive(key) {\n",
              "          const element = document.querySelector('#df-110bed9a-fe8d-4d34-a171-8dc3bab6037c');\n",
              "          const dataTable =\n",
              "            await google.colab.kernel.invokeFunction('convertToInteractive',\n",
              "                                                     [key], {});\n",
              "          if (!dataTable) return;\n",
              "\n",
              "          const docLinkHtml = 'Like what you see? Visit the ' +\n",
              "            '<a target=\"_blank\" href=https://colab.research.google.com/notebooks/data_table.ipynb>data table notebook</a>'\n",
              "            + ' to learn more about interactive tables.';\n",
              "          element.innerHTML = '';\n",
              "          dataTable['output_type'] = 'display_data';\n",
              "          await google.colab.output.renderOutput(dataTable, element);\n",
              "          const docLink = document.createElement('div');\n",
              "          docLink.innerHTML = docLinkHtml;\n",
              "          element.appendChild(docLink);\n",
              "        }\n",
              "      </script>\n",
              "    </div>\n",
              "  </div>\n",
              "  "
            ],
            "text/plain": [
              "                                              리뷰 텍스트\n",
              "0  생각보다 무난해서 더 좋았던것 같아요 ! 뭔가 디테일이 많이 튈거라고 생각해서 걱정했는데\n",
              "1  사진에 보이는 색상처럼 괜찮은 독특한 블루색입니다 기모가 쨩쨩해서 춥진 않을듯합니다...\n",
              "2                    재질도좋고 촉감도 좋습니다~ 배송 역시 빠르고 마니파세요\n",
              "3               교복에 입기 정말 무난한 후드집업 ㅎㅎ 사이즈도 넉넉하니 귀여워요\n",
              "4             생각보다 조금 얇은 느낌이긴 한데 그래서 여름에 입기 좋은 것 같아요"
            ]
          },
          "metadata": {},
          "execution_count": 6
        }
      ]
    },
    {
      "cell_type": "code",
      "source": [
        "train_checked.head() # 처리 후 맞춤법 교정 처리가 된 것을 확인 할 수 있습니다."
      ],
      "metadata": {
        "colab": {
          "base_uri": "https://localhost:8080/"
        },
        "id": "dpe_iIWAawq8",
        "outputId": "0de752b7-10b5-4f9d-a4f4-3d69dab38d78"
      },
      "execution_count": null,
      "outputs": [
        {
          "output_type": "execute_result",
          "data": {
            "text/plain": [
              "0    생각보다 무난해서 더 좋았던 것 같아요! 뭔가 디테일이 많이 튈 거라고 생각해서 걱...\n",
              "1    사진에 보이는 색상처럼 괜찮은 독특한 블루색입니다 기모가 쨩쨩해서 춥진 않을듯합니다...\n",
              "2                    재질도 좋고 촉감도 좋습니다~ 배송 역시 빠르고 많이 파세요\n",
              "3                 교복에 입기 정말 무난한 후드집업 ㅎㅎ 사이즈도 넉넉하니 귀여워요\n",
              "4               생각보다 조금 얇은 느낌이긴 한데 그래서 여름에 입기 좋은 것 같아요\n",
              "Name: 리뷰 텍스트, dtype: object"
            ]
          },
          "metadata": {},
          "execution_count": 10
        }
      ]
    },
    {
      "cell_type": "code",
      "source": [
        "train_checked.to_csv(\"train_checked.csv\", index = None) # 맞춤법 교정된 파일을 엑셀 파일로 저장합니다."
      ],
      "metadata": {
        "id": "RYJg3eDZa3Dg"
      },
      "execution_count": null,
      "outputs": []
    },
    {
      "cell_type": "code",
      "source": [
        "train = pd.read_csv(\"train_checked.csv\")\n",
        "train.head()"
      ],
      "metadata": {
        "colab": {
          "base_uri": "https://localhost:8080/",
          "height": 206
        },
        "id": "1orK47VCa9dO",
        "outputId": "2a5c6149-62ae-4f96-ff82-d74e518be2c8"
      },
      "execution_count": null,
      "outputs": [
        {
          "output_type": "execute_result",
          "data": {
            "text/html": [
              "\n",
              "  <div id=\"df-9799f483-a7a4-4aa3-abbe-09e0104d2cab\">\n",
              "    <div class=\"colab-df-container\">\n",
              "      <div>\n",
              "<style scoped>\n",
              "    .dataframe tbody tr th:only-of-type {\n",
              "        vertical-align: middle;\n",
              "    }\n",
              "\n",
              "    .dataframe tbody tr th {\n",
              "        vertical-align: top;\n",
              "    }\n",
              "\n",
              "    .dataframe thead th {\n",
              "        text-align: right;\n",
              "    }\n",
              "</style>\n",
              "<table border=\"1\" class=\"dataframe\">\n",
              "  <thead>\n",
              "    <tr style=\"text-align: right;\">\n",
              "      <th></th>\n",
              "      <th>리뷰 텍스트</th>\n",
              "    </tr>\n",
              "  </thead>\n",
              "  <tbody>\n",
              "    <tr>\n",
              "      <th>0</th>\n",
              "      <td>생각보다 무난해서 더 좋았던 것 같아요! 뭔가 디테일이 많이 튈 거라고 생각해서 걱...</td>\n",
              "    </tr>\n",
              "    <tr>\n",
              "      <th>1</th>\n",
              "      <td>사진에 보이는 색상처럼 괜찮은 독특한 블루색입니다 기모가 쨩쨩해서 춥진 않을듯합니다...</td>\n",
              "    </tr>\n",
              "    <tr>\n",
              "      <th>2</th>\n",
              "      <td>재질도 좋고 촉감도 좋습니다~ 배송 역시 빠르고 많이 파세요</td>\n",
              "    </tr>\n",
              "    <tr>\n",
              "      <th>3</th>\n",
              "      <td>교복에 입기 정말 무난한 후드집업 ㅎㅎ 사이즈도 넉넉하니 귀여워요</td>\n",
              "    </tr>\n",
              "    <tr>\n",
              "      <th>4</th>\n",
              "      <td>생각보다 조금 얇은 느낌이긴 한데 그래서 여름에 입기 좋은 것 같아요</td>\n",
              "    </tr>\n",
              "  </tbody>\n",
              "</table>\n",
              "</div>\n",
              "      <button class=\"colab-df-convert\" onclick=\"convertToInteractive('df-9799f483-a7a4-4aa3-abbe-09e0104d2cab')\"\n",
              "              title=\"Convert this dataframe to an interactive table.\"\n",
              "              style=\"display:none;\">\n",
              "        \n",
              "  <svg xmlns=\"http://www.w3.org/2000/svg\" height=\"24px\"viewBox=\"0 0 24 24\"\n",
              "       width=\"24px\">\n",
              "    <path d=\"M0 0h24v24H0V0z\" fill=\"none\"/>\n",
              "    <path d=\"M18.56 5.44l.94 2.06.94-2.06 2.06-.94-2.06-.94-.94-2.06-.94 2.06-2.06.94zm-11 1L8.5 8.5l.94-2.06 2.06-.94-2.06-.94L8.5 2.5l-.94 2.06-2.06.94zm10 10l.94 2.06.94-2.06 2.06-.94-2.06-.94-.94-2.06-.94 2.06-2.06.94z\"/><path d=\"M17.41 7.96l-1.37-1.37c-.4-.4-.92-.59-1.43-.59-.52 0-1.04.2-1.43.59L10.3 9.45l-7.72 7.72c-.78.78-.78 2.05 0 2.83L4 21.41c.39.39.9.59 1.41.59.51 0 1.02-.2 1.41-.59l7.78-7.78 2.81-2.81c.8-.78.8-2.07 0-2.86zM5.41 20L4 18.59l7.72-7.72 1.47 1.35L5.41 20z\"/>\n",
              "  </svg>\n",
              "      </button>\n",
              "      \n",
              "  <style>\n",
              "    .colab-df-container {\n",
              "      display:flex;\n",
              "      flex-wrap:wrap;\n",
              "      gap: 12px;\n",
              "    }\n",
              "\n",
              "    .colab-df-convert {\n",
              "      background-color: #E8F0FE;\n",
              "      border: none;\n",
              "      border-radius: 50%;\n",
              "      cursor: pointer;\n",
              "      display: none;\n",
              "      fill: #1967D2;\n",
              "      height: 32px;\n",
              "      padding: 0 0 0 0;\n",
              "      width: 32px;\n",
              "    }\n",
              "\n",
              "    .colab-df-convert:hover {\n",
              "      background-color: #E2EBFA;\n",
              "      box-shadow: 0px 1px 2px rgba(60, 64, 67, 0.3), 0px 1px 3px 1px rgba(60, 64, 67, 0.15);\n",
              "      fill: #174EA6;\n",
              "    }\n",
              "\n",
              "    [theme=dark] .colab-df-convert {\n",
              "      background-color: #3B4455;\n",
              "      fill: #D2E3FC;\n",
              "    }\n",
              "\n",
              "    [theme=dark] .colab-df-convert:hover {\n",
              "      background-color: #434B5C;\n",
              "      box-shadow: 0px 1px 3px 1px rgba(0, 0, 0, 0.15);\n",
              "      filter: drop-shadow(0px 1px 2px rgba(0, 0, 0, 0.3));\n",
              "      fill: #FFFFFF;\n",
              "    }\n",
              "  </style>\n",
              "\n",
              "      <script>\n",
              "        const buttonEl =\n",
              "          document.querySelector('#df-9799f483-a7a4-4aa3-abbe-09e0104d2cab button.colab-df-convert');\n",
              "        buttonEl.style.display =\n",
              "          google.colab.kernel.accessAllowed ? 'block' : 'none';\n",
              "\n",
              "        async function convertToInteractive(key) {\n",
              "          const element = document.querySelector('#df-9799f483-a7a4-4aa3-abbe-09e0104d2cab');\n",
              "          const dataTable =\n",
              "            await google.colab.kernel.invokeFunction('convertToInteractive',\n",
              "                                                     [key], {});\n",
              "          if (!dataTable) return;\n",
              "\n",
              "          const docLinkHtml = 'Like what you see? Visit the ' +\n",
              "            '<a target=\"_blank\" href=https://colab.research.google.com/notebooks/data_table.ipynb>data table notebook</a>'\n",
              "            + ' to learn more about interactive tables.';\n",
              "          element.innerHTML = '';\n",
              "          dataTable['output_type'] = 'display_data';\n",
              "          await google.colab.output.renderOutput(dataTable, element);\n",
              "          const docLink = document.createElement('div');\n",
              "          docLink.innerHTML = docLinkHtml;\n",
              "          element.appendChild(docLink);\n",
              "        }\n",
              "      </script>\n",
              "    </div>\n",
              "  </div>\n",
              "  "
            ],
            "text/plain": [
              "                                              리뷰 텍스트\n",
              "0  생각보다 무난해서 더 좋았던 것 같아요! 뭔가 디테일이 많이 튈 거라고 생각해서 걱...\n",
              "1  사진에 보이는 색상처럼 괜찮은 독특한 블루색입니다 기모가 쨩쨩해서 춥진 않을듯합니다...\n",
              "2                  재질도 좋고 촉감도 좋습니다~ 배송 역시 빠르고 많이 파세요\n",
              "3               교복에 입기 정말 무난한 후드집업 ㅎㅎ 사이즈도 넉넉하니 귀여워요\n",
              "4             생각보다 조금 얇은 느낌이긴 한데 그래서 여름에 입기 좋은 것 같아요"
            ]
          },
          "metadata": {},
          "execution_count": 12
        }
      ]
    },
    {
      "cell_type": "markdown",
      "source": [
        "## 3-2. 토큰화(Tokenization)(Okt 형태소 분석기)\n",
        "Okt, Kkma, Mecab 각 한국어 형태소 분석기의 결과를 비교했습니다."
      ],
      "metadata": {
        "id": "HBTFdRHaD9ta"
      }
    },
    {
      "cell_type": "code",
      "source": [
        "okt = Okt()\n",
        "print('Okt 형태소 분석 :',okt.morphs(\"열심히 코딩한 당신, 연휴에는 여행을 가봐요\"))\n",
        "print('Okt 품사 태깅 :',okt.pos(\"열심히 코딩한 당신, 연휴에는 여행을 가봐요\"))\n",
        "print('Okt 명사 추출 :',okt.nouns(\"열심히 코딩한 당신, 연휴에는 여행을 가봐요\")) "
      ],
      "metadata": {
        "colab": {
          "base_uri": "https://localhost:8080/"
        },
        "id": "wMOdOgpry556",
        "outputId": "10a2c6c9-7bf1-4bcc-e201-676072811f21"
      },
      "execution_count": 32,
      "outputs": [
        {
          "output_type": "stream",
          "name": "stdout",
          "text": [
            "Okt 형태소 분석 : ['열심히', '코딩', '한', '당신', ',', '연휴', '에는', '여행', '을', '가봐요']\n",
            "Okt 품사 태깅 : [('열심히', 'Adverb'), ('코딩', 'Noun'), ('한', 'Josa'), ('당신', 'Noun'), (',', 'Punctuation'), ('연휴', 'Noun'), ('에는', 'Josa'), ('여행', 'Noun'), ('을', 'Josa'), ('가봐요', 'Verb')]\n",
            "Okt 명사 추출 : ['코딩', '당신', '연휴', '여행']\n"
          ]
        }
      ]
    },
    {
      "cell_type": "code",
      "source": [
        "kkma = Kkma()\n",
        "print('Kkma 형태소 분석 :',kkma.morphs(\"열심히 코딩한 당신, 연휴에는 여행을 가봐요\"))\n",
        "print('Kkma 품사 태깅 :',kkma.pos(\"열심히 코딩한 당신, 연휴에는 여행을 가봐요\"))\n",
        "print('Kkma 명사 추출 :',kkma.nouns(\"열심히 코딩한 당신, 연휴에는 여행을 가봐요\")) "
      ],
      "metadata": {
        "colab": {
          "base_uri": "https://localhost:8080/"
        },
        "id": "Wnsj7p1C0eiZ",
        "outputId": "346a1b49-606a-4b53-8f57-130d58c64f35"
      },
      "execution_count": 34,
      "outputs": [
        {
          "output_type": "stream",
          "name": "stdout",
          "text": [
            "Kkma 형태소 분석 : ['열심히', '코딩', '하', 'ㄴ', '당신', ',', '연휴', '에', '는', '여행', '을', '가보', '아요']\n",
            "Kkma 품사 태깅 : [('열심히', 'MAG'), ('코딩', 'NNG'), ('하', 'XSV'), ('ㄴ', 'ETD'), ('당신', 'NP'), (',', 'SP'), ('연휴', 'NNG'), ('에', 'JKM'), ('는', 'JX'), ('여행', 'NNG'), ('을', 'JKO'), ('가보', 'VV'), ('아요', 'EFN')]\n",
            "Kkma 명사 추출 : ['코딩', '당신', '연휴', '여행']\n"
          ]
        }
      ]
    },
    {
      "cell_type": "code",
      "source": [
        "mecab = Mecab()\n",
        "print('Mecab 형태소 분석 : ', mecab.morphs(\"열심히 코딩한 당신, 연휴에는 여행을 가봐요\"))\n",
        "print('Mecab 형태소 분석 : ', mecab.pos(\"열심히 코딩한 당신, 연휴에는 여행을 가봐요\"))\n",
        "print('Mecab 형태소 분석 : ', mecab.nouns(\"열심히 코딩한 당신, 연휴에는 여행을 가봐요\"))"
      ],
      "metadata": {
        "colab": {
          "base_uri": "https://localhost:8080/"
        },
        "id": "V76fpS6L0fhq",
        "outputId": "e726fcc8-96ef-410d-90b7-3028f95fcf62"
      },
      "execution_count": 33,
      "outputs": [
        {
          "output_type": "stream",
          "name": "stdout",
          "text": [
            "Mecab 형태소 분석 :  ['열심히', '코딩', '한', '당신', ',', '연휴', '에', '는', '여행', '을', '가', '봐요']\n",
            "Mecab 형태소 분석 :  [('열심히', 'MAG'), ('코딩', 'NNG'), ('한', 'XSA+ETM'), ('당신', 'NP'), (',', 'SC'), ('연휴', 'NNG'), ('에', 'JKB'), ('는', 'JX'), ('여행', 'NNG'), ('을', 'JKO'), ('가', 'VV'), ('봐요', 'EC+VX+EC')]\n",
            "Mecab 형태소 분석 :  ['코딩', '당신', '연휴', '여행']\n"
          ]
        }
      ]
    },
    {
      "cell_type": "markdown",
      "source": [
        "비교해본 결과 Okt가 데이터에 대해 가장 직관적인 토큰화를 구현하여 주므로 Okt 형태소 분석기를 사용하기로 결정하였습니다."
      ],
      "metadata": {
        "id": "0_W9TlIm1Ur3"
      }
    },
    {
      "cell_type": "code",
      "source": [
        "okt = Okt()\n",
        "\n",
        "train_tokenized = []\n",
        "\n",
        "for i in tqdm(range(len(train))): \n",
        "  train_tokenized.append(okt.morphs(train['리뷰 텍스트'][i]))"
      ],
      "metadata": {
        "colab": {
          "base_uri": "https://localhost:8080/"
        },
        "id": "y6cX_F7fbMww",
        "outputId": "58da8f3d-2126-48c8-d088-9642f282ee96"
      },
      "execution_count": 23,
      "outputs": [
        {
          "output_type": "stream",
          "name": "stderr",
          "text": [
            "100%|██████████| 1579/1579 [00:13<00:00, 120.30it/s]\n"
          ]
        }
      ]
    },
    {
      "cell_type": "code",
      "source": [
        "print(train_tokenized)"
      ],
      "metadata": {
        "id": "4yfsIrh-bwal"
      },
      "execution_count": null,
      "outputs": []
    },
    {
      "cell_type": "markdown",
      "source": [
        "## 3-3. 불용어 정제\n",
        "분리된 조사와 이모티콘, 특수문자 등 개체명인식에 필요하지 않은 텍스트를 정제하기 위해 불용어 사전을 별도로 정의하였다."
      ],
      "metadata": {
        "id": "q6lY79tZD9v1"
      }
    },
    {
      "cell_type": "code",
      "source": [
        "all_words_list = sum(train_tokenized, []) # 토큰화한 단어의 리스트를 하나의 리스트로 합침\n",
        "print(all_words_list)"
      ],
      "metadata": {
        "id": "_o5xeilqcC0r"
      },
      "execution_count": null,
      "outputs": []
    },
    {
      "cell_type": "code",
      "source": [
        "words = Counter(all_words_list) # 각 단어 별 빈도 수 계산.\n",
        "print(words) # 불용어 사전 정의에 참고하기 위해 확인."
      ],
      "metadata": {
        "id": "6weQEIs5cFdV"
      },
      "execution_count": null,
      "outputs": []
    },
    {
      "cell_type": "code",
      "source": [
        "word_tokens = train_tokenized # 토큰화 한 학습 데이터\n",
        "file = open(\"stopwords.csv\", \"r\") # 불용어 사전 파일 오픈\n",
        "stop_words = file.read().split(\"\\n\") # 각 단어는 개행으로 구분되어 있으므로 \\n을 구분자로 사용하여 리드\n",
        "file.close()\n",
        "result = [] # 결과 저장위한 변수 선언\n",
        "\n",
        "for i in range(0, len(word_tokens)): # 데이터 길이(문장 갯수만큼 반복)\n",
        "  result.append([word for word in word_tokens[i] if not word in stop_words]) \n",
        "  # 각 문장마다 불용어 사전에 없는 토큰을 result에 append \n",
        "\n",
        "print('불용어 제거 전 :',word_tokens) \n",
        "print('불용어 제거 후 :',result)\n",
        "print(stop_words)\n",
        "\n",
        "# 아래 코드는 데이터 처리 결과를 더 직관적으로 확인하기 위함\n",
        "temp = pd.DataFrame()\n",
        "temp['불용어 제거 전'] = word_tokens\n",
        "temp['불용어 제거 후'] = result\n",
        "print(temp)"
      ],
      "metadata": {
        "id": "XBRY4i4acKwf"
      },
      "execution_count": null,
      "outputs": []
    },
    {
      "cell_type": "code",
      "source": [
        "print(max(len(l) for l in word_tokens)) # 불용어 처리 전 문장의 최대 길이 : 130\n",
        "print(max(len(l) for l in result)) # 불용어 처리 후 문장의 최대 길이 : 81"
      ],
      "metadata": {
        "colab": {
          "base_uri": "https://localhost:8080/"
        },
        "id": "RpJ1EbipcnYw",
        "outputId": "bad27826-b0be-4c3e-8e25-6d2fb6765be2"
      },
      "execution_count": 39,
      "outputs": [
        {
          "output_type": "stream",
          "name": "stdout",
          "text": [
            "130\n",
            "81\n"
          ]
        }
      ]
    },
    {
      "cell_type": "code",
      "source": [
        "temp.to_csv(\"stopwords_processed.csv\", index = None)"
      ],
      "metadata": {
        "id": "2y3qaLY2c32R"
      },
      "execution_count": 40,
      "outputs": []
    },
    {
      "cell_type": "code",
      "source": [
        "train_text = result\n",
        "len(train_text)"
      ],
      "metadata": {
        "colab": {
          "base_uri": "https://localhost:8080/"
        },
        "id": "z24HM1Pd2eA3",
        "outputId": "00d5eed6-a5cc-44b7-8d44-162d1e6b6c03"
      },
      "execution_count": 41,
      "outputs": [
        {
          "output_type": "execute_result",
          "data": {
            "text/plain": [
              "1579"
            ]
          },
          "metadata": {},
          "execution_count": 41
        }
      ]
    },
    {
      "cell_type": "markdown",
      "source": [
        "## 3-4. 태깅(Tagging)\n",
        "불용어를 정제한 데이터에 각 토큰마다 태그를 작성하였다. 정의한 태그는 다음과 같다.\n",
        "\n",
        "*   사이즈 SIZ / Size\n",
        "*   만족도 SAT / Satisfaction\n",
        "*   디자인 DES / Design\n",
        "*   색상 COL / Color\n",
        "*   가격 PRC / Price\n",
        "*   착용감 COW / Comfort of wearing\n",
        "*   품질 QLT / Quality\n",
        "*   소재 MTR / Meterial\n",
        "*   코디 COD / Coordinate\n",
        "*   관리 MNG / Manage\n",
        "*   무게 WGT / Weight\n",
        "*   보온성 TMP / Temperature\n",
        "*   배송 DLV / Delivery\n",
        "\n",
        "태그는 BIO 표현방식을 따르며, 개체가 시작되는 지점은 B(Begin), 개체에 포함 되는 부분은 I(Inside), 개체가 아닌 부분은 O(Outside)로 표기한다. 예를 들어 '사이즈', '커요', '정말'이라는 토큰이 연속해서 있을 경우 각각 'B-SIZ', 'I-SIZ', 'O'로 태깅한다."
      ],
      "metadata": {
        "id": "bS9k221QLFtC"
      }
    },
    {
      "cell_type": "code",
      "source": [
        "f = open(\"train_tagging.txt\", \"w\")\n",
        "for sentence in train_text:\n",
        "  for token in sentence:\n",
        "    f.write(token)\n",
        "    f.write(\"\\n\")\n",
        "  f.write(\"\\n\")  \n",
        "f.close"
      ],
      "metadata": {
        "id": "VqifdwnE2oUL"
      },
      "execution_count": null,
      "outputs": []
    },
    {
      "cell_type": "code",
      "source": [
        "# 태깅 분업을 위한 파일 분리\n",
        "\n",
        "f = open(\"tagging_kim.txt\", \"w\")\n",
        "for sentence in train_text[0:226]:\n",
        "  for token in sentence:\n",
        "    f.write(token)\n",
        "    f.write(\"\\n\")\n",
        "  f.write(\"\\n\")  \n",
        "f.close\n",
        "\n",
        "f = open(\"tagging_um.txt\", \"w\")\n",
        "for sentence in train_text[226:452]:\n",
        "  for token in sentence:\n",
        "    f.write(token)\n",
        "    f.write(\"\\n\")\n",
        "  f.write(\"\\n\")  \n",
        "f.close\n",
        "\n",
        "f = open(\"tagging_leek.txt\", \"w\")\n",
        "for sentence in train_text[452:678]:\n",
        "  for token in sentence:\n",
        "    f.write(token)\n",
        "    f.write(\"\\n\")\n",
        "  f.write(\"\\n\")  \n",
        "f.close\n",
        "\n",
        "f = open(\"tagging_lees.txt\", \"w\")\n",
        "for sentence in train_text[678:904]:\n",
        "  for token in sentence:\n",
        "    f.write(token)\n",
        "    f.write(\"\\n\")\n",
        "  f.write(\"\\n\")  \n",
        "f.close\n",
        "\n",
        "f = open(\"tagging_lim.txt\", \"w\")\n",
        "for sentence in train_text[904:1129]:\n",
        "  for token in sentence:\n",
        "    f.write(token)\n",
        "    f.write(\"\\n\")\n",
        "  f.write(\"\\n\")  \n",
        "f.close\n",
        "\n",
        "f = open(\"tagging_jo.txt\", \"w\")\n",
        "for sentence in train_text[1129:1354]:\n",
        "  for token in sentence:\n",
        "    f.write(token)\n",
        "    f.write(\"\\n\")\n",
        "  f.write(\"\\n\")  \n",
        "f.close\n",
        "\n",
        "f = open(\"tagging_ha.txt\", \"w\")\n",
        "for sentence in train_text[1354:1579]:\n",
        "  for token in sentence:\n",
        "    f.write(token)\n",
        "    f.write(\"\\n\")\n",
        "  f.write(\"\\n\")  \n",
        "f.close"
      ],
      "metadata": {
        "id": "IqfDsn4E2qJa"
      },
      "execution_count": null,
      "outputs": []
    },
    {
      "cell_type": "code",
      "source": [
        "import re # 정규표현식 사용 위함\n",
        "import matplotlib.pyplot as plt # 도표 시각화 위함"
      ],
      "metadata": {
        "id": "dnUvssiwc65I"
      },
      "execution_count": 42,
      "outputs": []
    },
    {
      "cell_type": "code",
      "source": [
        "f = open('tagging_complete.txt', 'r')\n",
        "tagged_sentences = []\n",
        "sentence = []\n",
        "\n",
        "for line in f:\n",
        "    if len(line)==0 or line[0]==\"\\n\":\n",
        "        if len(sentence) > 0:\n",
        "            tagged_sentences.append(sentence)\n",
        "            sentence = []\n",
        "        continue\n",
        "    splits = line.split(' ') # 공백을 기준으로 속성을 구분한다.\n",
        "    splits[-1] = re.sub(r'\\n', '', splits[-1]) # 줄바꿈 표시 \\n을 제거한다.\n",
        "    word = splits[0]\n",
        "    sentence.append([word, splits[-1]]) # 단어와 개체명 태깅만 기록한다.\n",
        "\n",
        "print(tagged_sentences)\n",
        "print(\"전체 문장 개수: \", len(tagged_sentences))"
      ],
      "metadata": {
        "id": "oc6GefRafUz_"
      },
      "execution_count": null,
      "outputs": []
    },
    {
      "cell_type": "code",
      "source": [
        "tagged_sentences[375][14] = ['x', 'O'] # 불용어 처리시 정제되지 못한 이모티콘을 의미 없는 값으로 바꿔줌."
      ],
      "metadata": {
        "id": "Qnr59A7-fh-I"
      },
      "execution_count": 45,
      "outputs": []
    },
    {
      "cell_type": "code",
      "source": [
        "sentences, ner_tags = [], [] \n",
        "for tagged_sentence in tagged_sentences: # 문장들을 1개씩 불러온다.\n",
        "    sentence, tag_info = zip(*tagged_sentence) # 각 문장의 단어들은 sentence에, 개체명 태깅 정보들은 tag_info에 저장.\n",
        "    sentences.append(list(sentence)) # 각 문장에서 단어 정보만 저장한다.\n",
        "    ner_tags.append(list(tag_info)) # 각 문장에서 개체명 태깅 정보만 저장한다.\n",
        "\n",
        "print('첫번째 문장 :',sentences[0])\n",
        "print('첫번째 문장의 태그 :',ner_tags[0])\n",
        "print(len(sentences))\n",
        "print(len(ner_tags))"
      ],
      "metadata": {
        "colab": {
          "base_uri": "https://localhost:8080/"
        },
        "id": "zUcXj_-afqLv",
        "outputId": "d6c0b22b-e550-427c-def0-09b01fbdb3e7"
      },
      "execution_count": 49,
      "outputs": [
        {
          "output_type": "stream",
          "name": "stdout",
          "text": [
            "첫번째 문장 : ['무난', '해서', '좋았던', '같아요', '뭔가', '디테', '일이', '튈', '라고', '해서', '걱정']\n",
            "첫번째 문장의 태그 : ['B-DES', 'I-DES', 'I-DES', 'O', 'O', 'B-DES', 'I-DES', 'I-DES', 'O', 'O', 'O']\n",
            "1578\n",
            "1578\n"
          ]
        }
      ]
    },
    {
      "cell_type": "code",
      "source": [
        "all_tags_list = sum(ner_tags, [])\n",
        "tags_len = Counter(all_tags_list)\n",
        "print(tags_len)"
      ],
      "metadata": {
        "colab": {
          "base_uri": "https://localhost:8080/"
        },
        "id": "9VQmif-Dfvuj",
        "outputId": "092f275e-c303-46b6-92c1-3fe3373adb8d"
      },
      "execution_count": 50,
      "outputs": [
        {
          "output_type": "stream",
          "name": "stdout",
          "text": [
            "Counter({'O': 10224, 'B-SIZ': 1405, 'B-SAT': 1310, 'I-SIZ': 721, 'B-MTR': 458, 'B-TMP': 384, 'B-COW': 342, 'B-COL': 337, 'B-DES': 320, 'I-SAT': 250, 'I-MTR': 189, 'B-COD': 176, 'I-COD': 169, 'I-DES': 165, 'I-COL': 151, 'I-COW': 143, 'B-QLT': 138, 'B-PRC': 131, 'B-WGT': 94, 'I-QLT': 85, 'B-DLV': 70, 'I-PRC': 67, 'I-DLV': 65, 'I-TMP': 54, 'B-MNG': 46, 'I-MNG': 23, 'I-WGT': 23, '': 23})\n"
          ]
        }
      ]
    },
    {
      "cell_type": "code",
      "source": [
        "# 전체 데이터의 길이 분포 확인\n",
        "print('리뷰 데이터 최대 길이 : %d' % max(len(sentence) for sentence in sentences))\n",
        "print('리뷰 데이터 평균 길이 : %f' % (sum(map(len, sentences))/len(sentences)))\n",
        "plt.hist([len(sentence) for sentence in sentences], bins=50)\n",
        "plt.xlabel('length of samples')\n",
        "plt.ylabel('number of samples')\n",
        "plt.show()"
      ],
      "metadata": {
        "colab": {
          "base_uri": "https://localhost:8080/",
          "height": 316
        },
        "id": "FVclbXEhfyqo",
        "outputId": "abf9ec0a-9b7b-4538-e10f-d74af0b0cd7b"
      },
      "execution_count": 51,
      "outputs": [
        {
          "output_type": "stream",
          "name": "stdout",
          "text": [
            "리뷰 데이터 최대 길이 : 82\n",
            "리뷰 데이터 평균 길이 : 11.129911\n"
          ]
        },
        {
          "output_type": "display_data",
          "data": {
            "image/png": "[encoded data removed]",
            "text/plain": [
              "<Figure size 432x288 with 1 Axes>"
            ]
          },
          "metadata": {
            "needs_background": "light"
          }
        }
      ]
    },
    {
      "cell_type": "markdown",
      "source": [
        "학습용 데이터 중 가장 긴 문장의 82의 길이를 가지며, 주로 40이하의 길이이고 평균적으로 10 내외의 길이를 가짐."
      ],
      "metadata": {
        "id": "FShlg6LSf5oB"
      }
    },
    {
      "cell_type": "markdown",
      "source": [
        "## 3-5. 정수 인코딩(Integer Encoding)\n",
        "각 단어에 정수 값을 부여하여 컴퓨터가 연산할 수 있도록 처리하기 위한 작업이다. 이를 위해 단어 빈도 수에 따른 단어 집합을 만들고, 그 순서대로 인덱스를 부여한다."
      ],
      "metadata": {
        "id": "RcBLUp0RengP"
      }
    },
    {
      "cell_type": "code",
      "source": [
        "from tensorflow.keras.preprocessing.text import Tokenizer\n",
        "from tensorflow.keras.preprocessing.sequence import pad_sequences\n",
        "from tensorflow.keras.utils import to_categorical"
      ],
      "metadata": {
        "id": "Y9dVJ5P4fSPg"
      },
      "execution_count": 47,
      "outputs": []
    },
    {
      "cell_type": "code",
      "source": [
        " # 토큰화한 적이 없는 단어는 'OOV' (Out-Of-Vocabulary 단어 집합에 없는 단어)로 처리해주기 위해 선언한 파라미터입니다.\n",
        "src_tokenizer = Tokenizer(oov_token='OOV')\n",
        "src_tokenizer.fit_on_texts(sentences)\n",
        "\n",
        "# 태깅 정보 저장\n",
        "tar_tokenizer = Tokenizer()\n",
        "tar_tokenizer.fit_on_texts(ner_tags)  # 문자들을 숫자로 표시\n",
        "\n",
        "# 문장 데이터에 대해서는 src_tokenizer를, 레이블에 해당되는 개체명 태깅 정보에 대해서는 tar_tokenizer를 사용합니다.\n",
        "vocab_size = len(src_tokenizer.word_index) + 1  # Tokenizer의 인자로 OOV를 추가해주었기 때문에 1을 더해줍니다.\n",
        "tag_size = len(tar_tokenizer.word_index) + 1\n",
        "\n",
        "print('단어 OOV의 인덱스 : {}'.format(src_tokenizer.word_index['OOV']))\n",
        "print('단어 집합의 크기 : {}'.format(vocab_size))\n",
        "print('개체명 태깅 정보 집합의 크기 : {}'.format(tag_size))"
      ],
      "metadata": {
        "colab": {
          "base_uri": "https://localhost:8080/"
        },
        "id": "xWBNr3rrjWIv",
        "outputId": "228748d8-0433-4ded-ff46-e2af5c998b42"
      },
      "execution_count": 52,
      "outputs": [
        {
          "output_type": "stream",
          "name": "stdout",
          "text": [
            "단어 OOV의 인덱스 : 1\n",
            "단어 집합의 크기 : 3816\n",
            "개체명 태깅 정보 집합의 크기 : 29\n"
          ]
        }
      ]
    },
    {
      "cell_type": "code",
      "source": [
        "# 정수 인코딩 수행\n",
        "X_data = src_tokenizer.texts_to_sequences(sentences)\n",
        "y_data = tar_tokenizer.texts_to_sequences(ner_tags)\n",
        "\n",
        "print('첫번째 문장 :',X_data[0])\n",
        "print('첫번째 문장의 레이블 :',y_data[0])"
      ],
      "metadata": {
        "colab": {
          "base_uri": "https://localhost:8080/"
        },
        "id": "QFj8OQJ3jZx_",
        "outputId": "f7481ee2-841e-4365-dbaa-6e4d8da075b4"
      },
      "execution_count": null,
      "outputs": [
        {
          "output_type": "stream",
          "name": "stdout",
          "text": [
            "첫번째 문장 : [23, 41, 1741, 4, 312, 884, 1169, 1742, 460, 41, 103]\n",
            "첫번째 문장의 레이블 : [9, 14, 14, 1, 1, 9, 14, 14, 1, 1, 1]\n"
          ]
        }
      ]
    },
    {
      "cell_type": "code",
      "source": [
        "word_to_index = src_tokenizer.word_index \n",
        "index_to_word = src_tokenizer.index_word #모델 학습 후 결과 확인을 위해 인덱스로부터 단어를 리턴 합니다.\n",
        "ner_to_index = tar_tokenizer.word_index \n",
        "index_to_ner = tar_tokenizer.index_word #인덱스로부터 개체명 태깅 정보를 리턴 합니다.\n",
        "index_to_ner[0] = 'PAD'\n",
        "\n",
        "# 개체명 태깅 정보를 출력합니다.\n",
        "print(index_to_ner)"
      ],
      "metadata": {
        "colab": {
          "base_uri": "https://localhost:8080/"
        },
        "id": "RqqcO65gjZ2m",
        "outputId": "67cb75dc-ce1b-4a97-bc18-993f3940551b"
      },
      "execution_count": null,
      "outputs": [
        {
          "output_type": "stream",
          "name": "stdout",
          "text": [
            "{1: 'o', 2: 'b-siz', 3: 'b-sat', 4: 'i-siz', 5: 'b-mtr', 6: 'b-tmp', 7: 'b-cow', 8: 'b-col', 9: 'b-des', 10: 'i-sat', 11: 'i-mtr', 12: 'b-cod', 13: 'i-cod', 14: 'i-des', 15: 'i-col', 16: 'i-cow', 17: 'b-qlt', 18: 'b-prc', 19: 'b-wgt', 20: 'i-qlt', 21: 'b-dlv', 22: 'i-prc', 23: 'i-dlv', 24: 'i-tmp', 25: 'b-mng', 26: 'i-mng', 27: 'i-wgt', 28: '', 0: 'PAD'}\n"
          ]
        }
      ]
    },
    {
      "cell_type": "code",
      "source": [
        "# 각 문장의 길이를 같게하기 위해 빈공간을 채우는 패딩 작업을 진행합니다.\n",
        "X_data = pad_sequences(X_data, padding='post')\n",
        "y_data = pad_sequences(y_data, padding='post')\n",
        "\n",
        "X_train, X_test, y_train_int, y_test_int = train_test_split(X_data, y_data, test_size=.1, random_state=1000)\n",
        "# 검증용 데이터로 10%만 추출합니다.\n",
        "# 훈련 데이터와 테스트 데이터를 9:1의 비율로 분리합니다.\n",
        "\n",
        "# 레이블에 해당하는 태깅 정보에 대해서 원-핫 인코딩을 수행합니다.\n",
        "y_train = to_categorical(y_train_int, num_classes=tag_size)\n",
        "y_test = to_categorical(y_test_int, num_classes=tag_size)\n",
        "\n",
        "# 각 데이터 크기를 확인 합니다.\n",
        "print('학습 문장 데이터의 크기 : {}'.format(X_train.shape))\n",
        "print('학습 태그 데이터(정수 인코딩)의 크기 : {}'.format(y_train_int.shape))\n",
        "print('학습 태그 데이터(원-핫 인코딩)의 크기 : {}'.format(y_train.shape))\n",
        "print('검증 문장 데이터의 크기 : {}'.format(X_test.shape))\n",
        "print('검증 태그 데이터(정수 인코딩)의 크기 : {}'.format(y_test_int.shape))\n",
        "print('검증 태그 데이터(원-핫 인코딩)의 크기 : {}'.format(y_test.shape))"
      ],
      "metadata": {
        "colab": {
          "base_uri": "https://localhost:8080/"
        },
        "id": "uqMPIYdUjd8y",
        "outputId": "46e53b21-7225-4f44-f27b-5755e844f8bd"
      },
      "execution_count": null,
      "outputs": [
        {
          "output_type": "stream",
          "name": "stdout",
          "text": [
            "학습 문장 데이터의 크기 : (1420, 82)\n",
            "학습 태그 데이터(정수 인코딩)의 크기 : (1420, 82)\n",
            "학습 태그 데이터(원-핫 인코딩)의 크기 : (1420, 82, 29)\n",
            "검증 문장 데이터의 크기 : (158, 82)\n",
            "검증 태그 데이터(정수 인코딩)의 크기 : (158, 82)\n",
            "검증 태그 데이터(원-핫 인코딩)의 크기 : (158, 82, 29)\n"
          ]
        }
      ]
    },
    {
      "cell_type": "markdown",
      "source": [
        "# 4. BiLSTM을 이용한 모델링\n",
        "학습 모델은 이 프로젝트의 목적이 리뷰 텍스트의 개체명인식이라는 점을 고려하였을 때, 여러 개의 입력과 여러 개의 출력이 존재하는 다 대 다(Many to many) 구조이므로 순환신경망(RNN)구조로 학습하는 것이 적절하며, 이전 시점과 이후 시점을 모두 고려하여 학습하고 기억할 필요가 있는 데이터를 기억하며 학습하는 BiLSTM이 개체명인식에 가장 적합하다고 판단하였습니다.\n",
        "\n"
      ],
      "metadata": {
        "id": "3N-SBEb9LQpm"
      }
    },
    {
      "cell_type": "markdown",
      "source": [
        "은닉층과 학습률, 에포크를 조정하며 각 모델의 정확도를 측정한 결과, 은닉층은 256, 학습률은 0.01, 에포크는 7일 때 가장 정확도가 높게 나타났습니다."
      ],
      "metadata": {
        "id": "U3gOpkpVsgpN"
      }
    },
    {
      "cell_type": "code",
      "source": [
        "from tensorflow.keras.models import Sequential\n",
        "from tensorflow.keras.layers import Dense, LSTM, InputLayer, Bidirectional, TimeDistributed, Embedding\n",
        "from tensorflow.keras.optimizers import Adam\n",
        "\n",
        "embedding_dim = 128\n",
        "hidden_units = 256\n",
        "\n",
        "model = Sequential()\n",
        "model.add(Embedding(vocab_size, embedding_dim, mask_zero=True))\n",
        "model.add(Bidirectional(LSTM(hidden_units, return_sequences=True)))\n",
        "model.add(TimeDistributed(Dense(tag_size, activation=('softmax'))))\n",
        "model.compile(loss='categorical_crossentropy', optimizer=Adam(0.01), metrics=['accuracy'])\n",
        "\n",
        "history = model.fit(X_train, y_train, batch_size=128, epochs=7, validation_split=0.1)"
      ],
      "metadata": {
        "colab": {
          "base_uri": "https://localhost:8080/"
        },
        "id": "E4Bz6bm5jk3z",
        "outputId": "7a7f217b-8248-45fc-907f-c72fc98163c7"
      },
      "execution_count": null,
      "outputs": [
        {
          "output_type": "stream",
          "name": "stdout",
          "text": [
            "Epoch 1/7\n",
            "10/10 [==============================] - 38s 2s/step - loss: 0.3231 - accuracy: 0.5190 - val_loss: 0.2539 - val_accuracy: 0.5908\n",
            "Epoch 2/7\n",
            "10/10 [==============================] - 18s 2s/step - loss: 0.2319 - accuracy: 0.5891 - val_loss: 0.2212 - val_accuracy: 0.6165\n",
            "Epoch 3/7\n",
            "10/10 [==============================] - 19s 2s/step - loss: 0.1768 - accuracy: 0.6599 - val_loss: 0.1843 - val_accuracy: 0.6887\n",
            "Epoch 4/7\n",
            "10/10 [==============================] - 18s 2s/step - loss: 0.1271 - accuracy: 0.7578 - val_loss: 0.1552 - val_accuracy: 0.7419\n",
            "Epoch 5/7\n",
            "10/10 [==============================] - 19s 2s/step - loss: 0.0884 - accuracy: 0.8161 - val_loss: 0.1433 - val_accuracy: 0.7645\n",
            "Epoch 6/7\n",
            "10/10 [==============================] - 17s 2s/step - loss: 0.0627 - accuracy: 0.8576 - val_loss: 0.1447 - val_accuracy: 0.7731\n",
            "Epoch 7/7\n",
            "10/10 [==============================] - 17s 2s/step - loss: 0.0475 - accuracy: 0.8868 - val_loss: 0.1513 - val_accuracy: 0.7700\n"
          ]
        }
      ]
    },
    {
      "cell_type": "markdown",
      "source": [
        "**return_sequences=True**  \n",
        "다 대 다 구조의 양방향 LSTM (또는 레이어를 여러개로 쌓아올릴 때) 사용\n",
        "\n",
        "**mask_zero=True**  \n",
        "리뷰 텍스트 처리와 같이 각 데이터의 길이가 달라서 패딩을 하느라 숫자 0이 많아질 경우에는 숫자 0은 연산에서 제외시킨다는 옵션을 줄 수 있습니다.\n",
        "\n",
        "**TimeDistributed()**  \n",
        "LSTM을 다 대 다 구조로 사용하여 LSTM의 모든 시점에 대해서 출력층을 사용할 필요가 있을 때 출력층에 사용합니다.\n",
        "\n",
        "**validation_split=0.1**  \n",
        "훈련 데이터의 10%를 검증 데이터로 분리해서 사용하고, 검증 데이터를 통해서 훈련이 적절히 되고 있는지 확인합니다.\n",
        "\n",
        "하이퍼파라미터인 배치 크기는 128이며, 7 에포크를 수행합니다."
      ],
      "metadata": {
        "id": "lyBoEpia9rDx"
      }
    },
    {
      "cell_type": "markdown",
      "source": [
        "# 5. 결과물 출력"
      ],
      "metadata": {
        "id": "XhMl0Yf3L4nM"
      }
    },
    {
      "cell_type": "code",
      "source": [
        "for i in range(0, 20): # 상위 20개 결과 출력합니다.\n",
        "    y_predicted = model.predict(np.array([X_test[i]])) # 입력한 테스트용 샘플에 대해서 예측 y를 리턴합니다.\n",
        "    y_predicted = np.argmax(y_predicted, axis=-1) # 확률 벡터를 정수 인코딩으로 변경합니다.\n",
        "    labels = np.argmax(y_test[i], -1) # 원-핫 인코딩을 다시 정수 인코딩으로 변경합니다.\n",
        "\n",
        "    print(\"{:15}|{:5}|{}\".format(\"\\n단어\", \"실제값\", \"예측값\"))\n",
        "    print(35 * \"-\")\n",
        "\n",
        "    for word, tag, pred in zip(X_test[i], labels, y_predicted[0]):\n",
        "        if word != 0: # PAD값은 제외합니다.\n",
        "            print(\"{:17}: {:7} {}\".format(index_to_word[word], index_to_ner[tag], index_to_ner[pred]))"
      ],
      "metadata": {
        "colab": {
          "base_uri": "https://localhost:8080/"
        },
        "id": "bAq5XoZEuv_x",
        "outputId": "07ce2018-8b9f-47db-9c15-a510d952d701"
      },
      "execution_count": null,
      "outputs": [
        {
          "output_type": "stream",
          "name": "stdout",
          "text": [
            "\n",
            "단어            |실제값  |예측값\n",
            "-----------------------------------\n",
            "한겨울              : b-tmp   b-tmp\n",
            "만                : o       o\n",
            "빼면               : o       o\n",
            "초가을              : b-tmp   b-tmp\n",
            "초봄               : b-tmp   o\n",
            "있는               : o       o\n",
            "두께               : b-mtr   b-mtr\n",
            "감                : i-mtr   o\n",
            "아우               : o       o\n",
            "터                : o       o\n",
            "강추               : b-sat   b-sat\n",
            "\n",
            "단어            |실제값  |예측값\n",
            "-----------------------------------\n",
            "교복               : b-cod   o\n",
            "위                : i-cod   o\n",
            "에다가              : i-cod   o\n",
            "입기도              : i-cod   o\n",
            "좋았고              : o       b-sat\n",
            "핏                : b-siz   b-siz\n",
            "이쁘고              : i-siz   i-siz\n",
            "그냥               : o       o\n",
            "기본               : o       o\n",
            "무난               : b-des   o\n",
            "후드               : o       o\n",
            "티                : o       o\n",
            "인                : o       o\n",
            "같아요              : o       o\n",
            "회색               : b-col   b-col\n",
            "있어야              : o       o\n",
            "같아서              : o       o\n",
            "샀어요              : o       o\n",
            "이뻐요              : b-sat   b-sat\n",
            "\n",
            "단어            |실제값  |예측값\n",
            "-----------------------------------\n",
            "적당히              : o       o\n",
            "스트리트             : o       o\n",
            "뭔가               : o       o\n",
            "댄디               : o       o\n",
            "있어서              : o       o\n",
            "좋은               : b-sat   o\n",
            "같아요              : o       o\n",
            "\n",
            "단어            |실제값  |예측값\n",
            "-----------------------------------\n",
            "165              : b-siz   b-siz\n",
            "키                : b-siz   b-siz\n",
            "기준               : o       o\n",
            "이쁜               : b-siz   o\n",
            "길이               : i-siz   b-siz\n",
            "나오고              : o       o\n",
            "촉감               : b-cow   b-cow\n",
            "하지               : o       o\n",
            "못                : o       o\n",
            "질감               : b-mtr   b-mtr\n",
            "이에요              : o       o\n",
            "이쁘고              : b-sat   b-sat\n",
            "좋아요              : i-sat   b-sat\n",
            "\n",
            "단어            |실제값  |예측값\n",
            "-----------------------------------\n",
            "추울               : b-tmp   b-tmp\n",
            "가볍게              : o       o\n",
            "입고               : o       o\n",
            "다니겠습니다           : o       o\n",
            "감사합니다            : o       o\n",
            "\n",
            "단어            |실제값  |예측값\n",
            "-----------------------------------\n",
            "따뜻하고             : b-tmp   b-tmp\n",
            "좋습니다             : b-sat   b-sat\n",
            "밖에               : o       o\n",
            "입고               : o       o\n",
            "돌아다니기            : o       o\n",
            "편하고              : b-cow   b-cow\n",
            "좋습니다             : o       b-sat\n",
            "\n",
            "단어            |실제값  |예측값\n",
            "-----------------------------------\n",
            "이염               : o       o\n",
            "되는               : o       o\n",
            "는                : o       o\n",
            "어쩔               : o       o\n",
            "없는               : o       o\n",
            "같아요              : o       o\n",
            "이쁘고              : b-sat   b-sat\n",
            "기본               : b-cod   o\n",
            "템                : i-cod   o\n",
            "정말               : o       o\n",
            "좋은               : o       o\n",
            "같아요              : o       o\n",
            "굳                : b-sat   b-sat\n",
            "굳                : b-sat   b-sat\n",
            "\n",
            "단어            |실제값  |예측값\n",
            "-----------------------------------\n",
            "캐시미어             : b-mtr   b-mtr\n",
            "100              : i-mtr   i-mtr\n",
            "라기               : o       o\n",
            "엔                : o       o\n",
            "뻣뻣하지만            : b-mtr   o\n",
            "구                : o       o\n",
            "성비               : o       o\n",
            "괜찮다고             : o       o\n",
            "합니다              : o       o\n",
            "\n",
            "단어            |실제값  |예측값\n",
            "-----------------------------------\n",
            "좋아요              : b-sat   b-sat\n",
            "포인트              : b-des   o\n",
            "되면서도             : o       o\n",
            "편한               : b-cow   b-cow\n",
            "👍                : o       o\n",
            "겨울               : b-tmp   b-tmp\n",
            "입기엔              : o       o\n",
            "구멍               : o       o\n",
            "사이               : o       o\n",
            "바람               : b-tmp   b-tmp\n",
            "슝슝               : o       o\n",
            "👋                : o       o\n",
            "쨌든               : o       o\n",
            "좋습니다             : b-sat   b-sat\n",
            "\n",
            "단어            |실제값  |예측값\n",
            "-----------------------------------\n",
            "가죽               : b-mtr   o\n",
            "재킷               : o       o\n",
            "처음               : o       o\n",
            "사봤는데             : o       o\n",
            "괜찮아요             : b-sat   b-sat\n",
            "핏                : b-siz   b-siz\n",
            "예쁘고              : i-siz   b-sat\n",
            "추워서              : b-tmp   b-tmp\n",
            "못                : o       o\n",
            "입고               : o       o\n",
            "있지만              : o       o\n",
            "가을               : b-tmp   b-tmp\n",
            "엄청               : o       o\n",
            "입고               : o       o\n",
            "다닐듯              : o       o\n",
            "합니다              : o       o\n",
            "\n",
            "단어            |실제값  |예측값\n",
            "-----------------------------------\n",
            "가볍게              : o       o\n",
            "입고               : o       o\n",
            "다닐               : o       o\n",
            "같아요              : o       o\n",
            "짱짱하니             : b-mtr   o\n",
            "좋아요              : i-mtr   b-sat\n",
            "\n",
            "단어            |실제값  |예측값\n",
            "-----------------------------------\n",
            "그냥               : o       o\n",
            "썼을               : o       o\n",
            "큰                : b-siz   b-siz\n",
            "줄여               : o       b-siz\n",
            "썼습니다             : o       o\n",
            "일반               : o       o\n",
            "캡                : o       o\n",
            "모자               : o       o\n",
            "인데               : o       o\n",
            "불꽃               : b-des   o\n",
            "마크               : i-des   o\n",
            "대칭성              : b-des   o\n",
            "있어서              : o       o\n",
            "안정감              : o       o\n",
            "주네               : o       o\n",
            "\n",
            "단어            |실제값  |예측값\n",
            "-----------------------------------\n",
            "허리               : o       b-siz\n",
            "커서               : o       i-siz\n",
            "24               : o       b-siz\n",
            "입어도              : o       o\n",
            "괜찮을              : o       o\n",
            "같아요              : o       o\n",
            "질                : b-qlt   b-qlt\n",
            "좋아서              : i-qlt   i-qlt\n",
            "빨래               : b-mng   b-mng\n",
            "몇                : o       o\n",
            "니깐               : o       o\n",
            "헐었어요             : b-qlt   o\n",
            "\n",
            "단어            |실제값  |예측값\n",
            "-----------------------------------\n",
            "친구               : o       o\n",
            "선물               : o       o\n",
            "려고               : o       o\n",
            "샀는데              : o       o\n",
            "마음               : b-sat   b-sat\n",
            "들어               : i-sat   i-sat\n",
            "하네요              : o       i-sat\n",
            "가격               : b-prc   b-prc\n",
            "대비               : i-prc   o\n",
            "갠                : o       b-sat\n",
            "찬아요              : o       i-qlt\n",
            "\n",
            "단어            |실제값  |예측값\n",
            "-----------------------------------\n",
            "사이즈              : b-siz   b-siz\n",
            "맞고               : i-siz   i-siz\n",
            "재질               : b-mtr   b-mtr\n",
            "부드러워서            : i-mtr   i-mtr\n",
            "좋아요              : b-sat   b-sat\n",
            "입고               : o       o\n",
            "있어요              : o       o\n",
            "\n",
            "단어            |실제값  |예측값\n",
            "-----------------------------------\n",
            "좋은               : o       o\n",
            "버핏               : o       o\n",
            "사이즈              : b-siz   b-siz\n",
            "라                : o       o\n",
            "만족               : b-sat   b-sat\n",
            "정말               : o       o\n",
            "예뻐요              : b-sat   b-sat\n",
            "회색               : b-col   i-col\n",
            "처음               : o       o\n",
            "사서               : o       o\n",
            "걱정               : o       o\n",
            "걱정               : o       o\n",
            "필요               : o       o\n",
            "없을               : o       o\n",
            "예뻐요              : b-sat   b-sat\n",
            "☺️               : o       o\n",
            "\n",
            "단어            |실제값  |예측값\n",
            "-----------------------------------\n",
            "사이즈              : b-siz   b-siz\n",
            "좋아요              : i-siz   i-siz\n",
            "핏                : b-siz   b-siz\n",
            "이쁘고              : i-siz   i-siz\n",
            "세                : o       o\n",
            "사세요              : o       o\n",
            "\n",
            "단어            |실제값  |예측값\n",
            "-----------------------------------\n",
            "튀지도              : b-des   o\n",
            "않고               : o       o\n",
            "포인트              : b-des   o\n",
            "이쁘게              : i-des   o\n",
            "드                : o       o\n",
            "있고               : o       o\n",
            "재질               : b-mtr   b-mtr\n",
            "되게               : o       o\n",
            "좋네요              : o       b-sat\n",
            "\n",
            "단어            |실제값  |예측값\n",
            "-----------------------------------\n",
            "모야               : o       o\n",
            "모야               : o       o\n",
            "체크               : b-des   o\n",
            "완전히              : o       o\n",
            "고급               : b-qlt   b-sat\n",
            "지고               : o       i-sat\n",
            "재질               : b-mtr   b-mtr\n",
            "뜬                : o       i-mtr\n",
            "뜬하고              : o       o\n",
            "좋아요              : b-sat   b-sat\n",
            "\n",
            "단어            |실제값  |예측값\n",
            "-----------------------------------\n",
            "리                : o       i-siz\n",
            "브랜드              : o       o\n",
            "정말               : o       o\n",
            "좋아하는데            : o       o\n",
            "모자               : o       o\n",
            "이쁘네요             : b-sat   b-sat\n",
            "쓰겠습니다            : o       o\n"
          ]
        }
      ]
    },
    {
      "cell_type": "markdown",
      "source": [
        "# 6. 개선방향\n",
        "전체적으로 빈도수가 높은 태그에 대해서는 비교적 정확하게 예측해내는 모습을 볼 수 있었지만, 원천 데이터의 수 자체가 적어 에포크가 높아질수록 특정 시점부터 검증 정확도가 들쭉날쭉해지는 과대적합 현상이 발생하였고, 0.76에서 0.77정도의 값에서 더 이상 높아지지 않았다. 이에 추후 개선할 방향을 제시해보고자 한다.\n",
        "\n",
        "\n",
        "\n",
        "1.   절대적인 표본 크기 확보\n",
        "\n",
        "\n",
        ">  자연어처리 학습에는 최소 수 만개의 데이터가 요구되나, 태깅 작업에 소요되는 시간이 많아 1500여 개의 문장을 태깅하는데 그쳤다. 이후 충분한 시간을 두고 태깅 작업을 하여 1만 개 이상의 데이터를 확보한다면 과대적합 문제는 해소될 것으로 기대된다.\n",
        "\n",
        "\n",
        "\n",
        "2.   태깅 작업의 일관성 확보\n",
        "\n",
        "\n",
        ">  태깅 작업은 결국 사람이 수동으로 해주는 작업이므로 태깅의 기준을 정하더라도 한국어 자연어의 모호성 때문에 태깅을 작성하는 사람의 주관이 주입될 수밖에 없었다. 이에 따라 같은 문맥과 단어에도 다른 태그가 붙은 경우로 인해 학습이 제대로 작동하지 못한 부분이 발생하였다. 태깅 작업에 있어서 조금 더 명확한 기준을 정하는 등의 방편이 필요한 것으로 보인다.\n",
        "\n",
        "\n",
        "\n",
        "3.   전처리 방식 개선\n",
        "\n",
        "\n",
        ">  이 프로젝트에서는 한국어 맞춤법 교정기가 형태소 분석기를 제대로 동작하게끔 만들기 위해 반드시 필요한 것으로 판단하였으나, 오히려 형태소 분석에 어려운 형태로 변환한 경우도 다수 발생하였다. 따라서 리뷰 텍스트에서 자주 등장하는 단어를 별도로 사전에 등록하여 이를 기반으로 맞춤법 교정 및 토큰화가 이루어질 수 있도록 처리하고, 불용어 사전 또한 제거할 단어를 보다 다각적으로 분석하여 정의할 필요가 있을 것으로 보인다.\n"
      ],
      "metadata": {
        "id": "S1vccxdTL8yw"
      }
    }
  ]
}